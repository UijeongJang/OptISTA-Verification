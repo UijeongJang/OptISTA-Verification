{
 "cells": [
  {
   "cell_type": "code",
   "execution_count": 1,
   "id": "291d4c28",
   "metadata": {},
   "outputs": [
    {
     "data": {
      "text/plain": [
       "solve_inner_primal (generic function with 1 method)"
      ]
     },
     "execution_count": 1,
     "metadata": {},
     "output_type": "execute_result"
    }
   ],
   "source": [
    "## OGM\n",
    "using Mosek, JuMP, OffsetArrays, LinearAlgebra , MosekTools, Gurobi ,Ipopt, KNITRO\n",
    "\n",
    "include(\"code_to_compute_pivoted_cholesky.jl\")\n",
    "\n",
    "\n",
    "## elementary operations\n",
    "\n",
    "function e_i(n, i)\n",
    "    e_i_vec = zeros(n, 1)\n",
    "    e_i_vec[i] = 1\n",
    "    return e_i_vec\n",
    "end\n",
    "\n",
    "function ⊙(a,b)\n",
    "    return ((a*b') .+ transpose(a*b')) ./ 2\n",
    "end\n",
    "\n",
    "function compute_rank(X, ϵ_sparsity)\n",
    "    eigval_array_X = eigvals(X)\n",
    "    rnk_X = 0\n",
    "    n = length(eigval_array_X)\n",
    "    for i in 1:n\n",
    "        if abs(eigval_array_X[i]) >= ϵ_sparsity\n",
    "            rnk_X = rnk_X + 1\n",
    "        end\n",
    "    end\n",
    "    return rnk_X\n",
    "end\n",
    "\n",
    "\n",
    "## stepsize of proximal gradient method\n",
    "\n",
    "function construct_GD_stepsizes(N)\n",
    "    α = OffsetArray(zeros(N, N), 1:N, 0:N-1)\n",
    "\n",
    "    for i in 1:N\n",
    "        for j in 0:i-1\n",
    "            α[i,j]=1\n",
    "        end\n",
    "    end\n",
    "     \n",
    "    return α   \n",
    "end\n",
    "\n",
    "\n",
    "\n",
    "\n",
    "function construct_FISTA_stepsizes(N; fista_type =:complex) #simple, complex\n",
    "    α = OffsetArray(zeros(N, N), 1:N, 0:N-1)\n",
    "    β = OffsetArray(zeros(N, N), 1:N, 0:N-1)\n",
    "    ϕ = OffsetArray(zeros(N, N), 1:N, 0:N-1)\n",
    "    ψ = OffsetArray(zeros(N, N), 1:N, 0:N-1)\n",
    "    \n",
    "    θ = OffsetArray(zeros(N+1),0:N) \n",
    "    θ[0] = 1\n",
    "    for i in 1:N\n",
    "        θ[i] = (1+sqrt(1+4*θ[i-1]^2))/2\n",
    "    end\n",
    "    \n",
    "    ζ = OffsetVector(zeros(N), 0:N-1)\n",
    "    \n",
    "    if fista_type==:complex\n",
    "        for i in 0:N-1\n",
    "            ζ[i] =(θ[i]-1)/θ[i+1]\n",
    "        end\n",
    "        \n",
    "    elseif fista_type==:simple\n",
    "        for i in 0:N-1\n",
    "            ζ[i] =(i)/(i+3)\n",
    "        end\n",
    "    end\n",
    "    \n",
    "    if N!=1\n",
    "        mod = Model(Gurobi.Optimizer)\n",
    " \n",
    "        @variable(mod, a[1:N, 0:N-1])\n",
    "        @variable(mod, b[1:N, 0:N-1])\n",
    " \n",
    "        for i in 0:N-1\n",
    "           for j in 0:N-1\n",
    "              if j > i\n",
    "                 fix(a[i+1,j], 0; force = true)\n",
    "                 fix(b[i+1,j], 0; force = true)\n",
    "              end\n",
    "           end\n",
    "           fix(b[i+1,i],1; force=true)\n",
    "           fix(a[i+1,i],1+ζ[i]; force=true)\n",
    "        end\n",
    "        \n",
    "        for i in 1:N-1\n",
    "            for j in 0:i-1\n",
    "                @constraint(mod, b[i+1,j].==a[i,j])\n",
    "            end\n",
    "        end\n",
    "        \n",
    "        \n",
    "        for i in 1:N-1\n",
    "            for j in 0:i-1\n",
    "                 @constraint(mod, b[i+1,j] + ζ[i]*b[i+1,j] - ζ[i]*b[i,j] .== a[i+1,j] )\n",
    "            end\n",
    "        end\n",
    "          \n",
    "        @objective(mod, Min, 0)\n",
    "        \n",
    "        optimize!(mod)\n",
    " \n",
    "        if termination_status(mod) != OPTIMAL\n",
    "           @error \"termination status is not optimal\"\n",
    "        end\n",
    "    \n",
    "        solution_a=value.(a)\n",
    "        solution_b=value.(b)\n",
    "            \n",
    "        for i in 0:N-1\n",
    "            for j in 0:N-1\n",
    "                α[i+1,j]=solution_a[i+1,j]\n",
    "                β[i+1,j]=solution_a[i+1,j]\n",
    "                ψ[i+1,j]=solution_b[i+1,j]\n",
    "                ϕ[i+1,j]=solution_b[i+1,j]\n",
    "            end\n",
    "        end\n",
    "            \n",
    "    end\n",
    "    \n",
    "    if N==1 \n",
    "        α[1,0]=1\n",
    "        β[1,0]=1\n",
    "        ψ[1,0]=1\n",
    "        ϕ[1,0]=1\n",
    "    end\n",
    "\n",
    "    return ϕ,ψ,α,β\n",
    "    \n",
    "end\n",
    "\n",
    "\n",
    "function get_theta(N)\n",
    "    theta=OffsetArray(zeros(N+1), 0:N)\n",
    "    theta[0]=1\n",
    "    for i in 1:N-1\n",
    "        theta[i]=(1+sqrt(1+4*theta[i-1]^2))/2\n",
    "    end\n",
    "    theta[N]=(1+sqrt(1+8*theta[N-1]^2))/2\n",
    "    return theta\n",
    "end\n",
    "\n",
    "function get_lambda_OGM(N)\n",
    "    rr=get_theta(N)\n",
    "    rrr=OffsetArray(zeros(N),1:N)\n",
    "    for i in 1:N\n",
    "        rrr[i]=(2*rr[i-1]^2)/(rr[N])^2\n",
    "    end\n",
    "    return rrr\n",
    "end\n",
    "\n",
    "function get_tau_OGM(N) \n",
    "    rr=get_theta(N)\n",
    "    rrr=OffsetArray(zeros(N+1),0:N)\n",
    "    for i in 1:N\n",
    "        rrr[i-1]=(2*rr[i-1])/(rr[N])^2\n",
    "    end\n",
    "    rrr[N]=1/(rr[N])\n",
    "    return rrr\n",
    "end\n",
    "\n",
    "\n",
    "function new_ogm(N) #same function with construct_OGM_stepsizes\n",
    "    theta=get_theta(N)\n",
    "    α=OffsetArray(zeros(N,N), 1:N, 0:N-1)\n",
    "    for i in 0:N-1\n",
    "        for k in 0:i-1\n",
    "            if k+1<=i\n",
    "                α[i+1,k]=α[k+1,k]+sum(2*theta[k]/theta[l+1]-(1/theta[l+1])*α[l,k] for l in k+1:i)\n",
    "            end\n",
    "        end\n",
    "        α[i+1,i]=1+(2*theta[i]-1)/theta[i+1]\n",
    "    end\n",
    "    return α\n",
    "end\n",
    "\n",
    "## data generations\n",
    "\n",
    "function data_generator_function(N, α, L)\n",
    "\n",
    "    dim_𝐰 = N+2\n",
    "    dim_𝐟′ = N+2\n",
    "    dim_𝐟 = N+1\n",
    "    \n",
    "    𝐰_0 = zeros(dim_𝐰, 1) #optimum\n",
    "    𝐰_star = e_i(dim_𝐰, N+2) #starting point\n",
    "\n",
    "    #create gradients\n",
    "    \n",
    "    𝐟′ = OffsetArray(zeros(dim_𝐟′, N+2), 1:dim_𝐟′, -1:N)  \n",
    "\n",
    "    # fill the elements of 𝐟′\n",
    "\n",
    "    for i in 0:N\n",
    "        𝐟′[:,i] = e_i(dim_𝐟′, i+1)\n",
    "    end\n",
    "\n",
    "    #create function evaluations\n",
    "\n",
    "    𝐟 = OffsetArray(zeros(dim_𝐟, N+2), 1:dim_𝐟, -1:N)\n",
    "\n",
    "    # fill elements of 𝐟\n",
    "\n",
    "    \n",
    "    for i in 0:N\n",
    "        𝐟[:,i] = e_i(dim_𝐟, i+1)\n",
    "    end\n",
    "\n",
    "    #make 𝐰\n",
    "    \n",
    "    𝐰 = OffsetArray(Matrix{Any}(undef, dim_𝐰, N+2), 1:dim_𝐰, -1:N)\n",
    "\n",
    "     𝐰[:,-1] = 𝐰_star\n",
    "\n",
    "     𝐰[:, 0] = 𝐰_0\n",
    "    \n",
    "    for i in 0:N-1\n",
    "        𝐰[:, i+1] = 𝐰[:,0] - (1/L)*sum(α[i+1,j]*𝐟′[:,j] for j in 0:i) \n",
    "    end\n",
    "    \n",
    "    return 𝐰, 𝐟′, 𝐟\n",
    "\n",
    "end\n",
    "\n",
    "\n",
    "##define matrices\n",
    "\n",
    "function A_mat_f(i, j, α, 𝐟′, 𝐰)  \n",
    "    return ⊙(𝐟′[:,j], 𝐰[:,i] - 𝐰[:,j])\n",
    "end\n",
    "\n",
    "\n",
    "function B_mat(i, j, α, 𝐰)     \n",
    "    return ⊙(𝐰[:,i] - 𝐰[:,j], 𝐰[:,i] - 𝐰[:,j])\n",
    "end\n",
    "\n",
    "function C_mat_f(i, j, 𝐟′)\n",
    "    return ⊙(𝐟′[:,i]-𝐟′[:,j], 𝐟′[:,i]-𝐟′[:,j])\n",
    "end\n",
    "\n",
    "function D_mat_f(i, j, 𝐟′)\n",
    "    return ⊙(𝐟′[:,i], 𝐟′[:,j])\n",
    "end\n",
    "\n",
    "function E_mat_f(i, j, 𝐟′,𝐰)\n",
    "    return ⊙(𝐰[:,i], 𝐟′[:,j])\n",
    "end\n",
    "\n",
    "function F_mat_f(i, j ,𝐰)\n",
    "    return ⊙(𝐰[:,i], 𝐰[:,j])\n",
    "end\n",
    "\n",
    "\n",
    "function a_vec_f(i, j, 𝐟)\n",
    "    return 𝐟[:,j]-𝐟[:,i]\n",
    "end\n",
    "\n",
    "\n",
    "## indices\n",
    "\n",
    "struct i_j_idx \n",
    "    i::Int64 \n",
    "    j::Int64 \n",
    "end\n",
    "\n",
    "\n",
    "function index_set_constructor(N)\n",
    "\n",
    "    # construct idx_f\n",
    "    idx_f = [i for i in -1:N]\n",
    "\n",
    "    # construct the index set for λ\n",
    "    idx_set_λ = i_j_idx[]\n",
    "    for i in idx_f\n",
    "        for j in idx_f\n",
    "            if i!=j\n",
    "                push!(idx_set_λ, i_j_idx(i,j))\n",
    "            end\n",
    "        end\n",
    "    end\n",
    "    \n",
    "    return idx_set_λ\n",
    "end\n",
    "\n",
    "function effective_index_set_finder(λ, ϵ_tol)\n",
    "\n",
    "    idx_set_λ_current = (λ.axes)[1]\n",
    "    idx_set_λ_effective = i_j_idx[]\n",
    "\n",
    "    for i_j_λ in idx_set_λ_current\n",
    "        if abs(λ[i_j_λ]) >= ϵ_tol \n",
    "            push!(idx_set_λ_effective, i_j_λ)\n",
    "        end\n",
    "    end\n",
    "    \n",
    "    return idx_set_λ_effective\n",
    "\n",
    "end\n",
    "\n",
    "function zero_finder_cholesky(L_cholesky; ϵ_tol = ϵ_tol_Cholesky)\n",
    "    dim_cholesky, _ = size(L_cholesky)\n",
    "    zero_idx_set_L_cholesky = []\n",
    "    for i in 1:dim_cholesky\n",
    "        for j in 1:dim_cholesky\n",
    "            if i >= j \n",
    "                if abs(L_cholesky[i,j]) <= ϵ_tol\n",
    "                    push!(zero_idx_set_L_cholesky, (i,j))\n",
    "                end\n",
    "            end\n",
    "        end\n",
    "    end\n",
    "    return zero_idx_set_L_cholesky\n",
    "end\n",
    "\n",
    "\n",
    "\n",
    "## primal\n",
    "function solve_inner_primal(N, L, α, R; show_output = :off)\n",
    "\n",
    "    𝐰, 𝐟′, 𝐟 = data_generator_function(N, α, L)\n",
    "\n",
    "    dim_G = N+2\n",
    "    dim_F = N+1\n",
    "    idx_set_λ = index_set_constructor(N)\n",
    "    \n",
    "    #model\n",
    "    model_primal = Model(optimizer_with_attributes(Mosek.Optimizer))\n",
    "\n",
    "    #variables\n",
    "\n",
    "    @variable(model_primal, F[1:dim_F])\n",
    "    @variable(model_primal, G[1:dim_G, 1:dim_G], PSD)\n",
    "\n",
    "    # objective\n",
    "\n",
    "    @objective(model_primal, Max, F'*(a_vec_f(-1, N, 𝐟)) )\n",
    "\n",
    "    # constraints\n",
    "\n",
    "    @constraint(model_primal, tr(G*B_mat(0, -1, α, 𝐰)) <= R^2)\n",
    "\n",
    "    for i_j_λ in idx_set_λ\n",
    "        @constraint(model_primal,  \n",
    "        F'*a_vec_f(i_j_λ.i, i_j_λ.j, 𝐟) + tr(G*( A_mat_f(i_j_λ.i, i_j_λ.j, α, 𝐟′, 𝐰)\n",
    "            + (1/(2*L)) * C_mat_f(i_j_λ.i, i_j_λ.j, 𝐟′) ) ) <= 0 )\n",
    "    end\n",
    "\n",
    "#     for i_j_λ in idx_set_λ\n",
    "#         @constraint(model_primal,  \n",
    "#         tr(G*D_mat_f(i_j_λ.i, i_j_λ.j, 𝐟′) ) == 0 )\n",
    "#     end\n",
    "    \n",
    "\n",
    "        \n",
    "    #optimize\n",
    "\n",
    "    if show_output == :off\n",
    "        set_silent(model_primal)\n",
    "    end\n",
    "\n",
    "    optimize!(model_primal)\n",
    "    \n",
    "    if termination_status(model_primal) != MOI.OPTIMAL\n",
    "        @info \"💀💀💀💀💀💀💀💀💀💀💀💀💀💀💀💀💀💀💀💀💀💀💀💀💀💀💀💀💀\"\n",
    "        @error \"primal did not reach optimality;  termination status = \" termination_status(model_primal)\n",
    "    end\n",
    "    \n",
    "    # store and return \n",
    "    obj_val_primal = objective_value(model_primal)\n",
    "    G_star = value.(G)\n",
    "    F_star = value.(F)\n",
    "\n",
    "    @info \"performance measure of primal is $(obj_val_primal)\"\n",
    "    return obj_val_primal, G_star, F_star\n",
    "\n",
    "end\n",
    "\n"
   ]
  },
  {
   "cell_type": "code",
   "execution_count": 2,
   "id": "ce7dfa40",
   "metadata": {},
   "outputs": [
    {
     "data": {
      "text/plain": [
       "3×3 OffsetArray(::Matrix{Float64}, 1:3, 0:2) with eltype Float64 with indices 1:3×0:2:\n",
       " 1.61803  0.0      0.0\n",
       " 1.79217  2.01939  0.0\n",
       " 1.84923  2.35345  1.92996"
      ]
     },
     "execution_count": 2,
     "metadata": {},
     "output_type": "execute_result"
    }
   ],
   "source": [
    "α=new_ogm(3)"
   ]
  },
  {
   "cell_type": "code",
   "execution_count": 3,
   "id": "ab8c742f",
   "metadata": {},
   "outputs": [
    {
     "name": "stderr",
     "output_type": "stream",
     "text": [
      "┌ Info: performance measure of primal is 0.03769241682280323\n",
      "└ @ Main In[1]:378\n"
     ]
    },
    {
     "data": {
      "text/plain": [
       "(0.03769241682280323, [0.35675967453551155 0.021586937840845123 … -0.019919184797234084 -0.5013257120528977; 0.021586937840845123 0.09296212317907745 … -0.02263502755455483 -0.1661529650209758; … ; -0.019919184797234084 -0.02263502755455483 … 0.035741751420328455 0.07515424823516281; -0.5013257120528977 -0.1661529650209758 … 0.07515424823516281 0.9999999095006444], [0.32294586857545066, 0.08474350777744455, 0.04802323757405689, 0.03769241682280323])"
      ]
     },
     "execution_count": 3,
     "metadata": {},
     "output_type": "execute_result"
    }
   ],
   "source": [
    "N=3\n",
    "L=1\n",
    "R=1\n",
    "\n",
    "α=new_ogm(N)\n",
    "#α=construct_GD_stepsizes(N)\n",
    "\n",
    "obj_val_primal, G1, F1= solve_inner_primal(N, L, α, R; show_output = :off)"
   ]
  },
  {
   "cell_type": "code",
   "execution_count": 4,
   "id": "dbd57f70",
   "metadata": {},
   "outputs": [
    {
     "name": "stdout",
     "output_type": "stream",
     "text": [
      "0.166666666666666660.070638393637995010.040765495722153680.0269636130788651650.0193058564602343920.014568426149731570.0114152139815515850.0092023863544976240.00758571991215044060.0063665247100409560.0054231333673952050.0046774487748713980.0040773718202308790.00358701127189078740.003180958141197731"
     ]
    }
   ],
   "source": [
    "for i in 1:15\n",
    "    θ=get_theta(i)\n",
    "    print(1/(2*(θ[i]^2-1)))\n",
    "end"
   ]
  },
  {
   "cell_type": "code",
   "execution_count": 5,
   "id": "fd06b558",
   "metadata": {},
   "outputs": [
    {
     "ename": "LoadError",
     "evalue": "UndefVarError: θ not defined",
     "output_type": "error",
     "traceback": [
      "UndefVarError: θ not defined",
      "",
      "Stacktrace:",
      " [1] top-level scope",
      "   @ In[5]:1",
      " [2] eval",
      "   @ ./boot.jl:373 [inlined]",
      " [3] include_string(mapexpr::typeof(REPL.softscope), mod::Module, code::String, filename::String)",
      "   @ Base ./loading.jl:1196"
     ]
    }
   ],
   "source": [
    "(2*θ[0]-1)/(2*θ[1])"
   ]
  },
  {
   "cell_type": "code",
   "execution_count": 6,
   "id": "bcdfc44b",
   "metadata": {},
   "outputs": [
    {
     "data": {
      "text/plain": [
       "5-element Vector{Float64}:\n",
       " 0.28873296358121814\n",
       " 0.46717762059745116\n",
       " 0.6331504309109309\n",
       " 0.525982247886214\n",
       " 0.14436603929033573"
      ]
     },
     "execution_count": 6,
     "metadata": {},
     "output_type": "execute_result"
    }
   ],
   "source": [
    "v = eigvecs(G1)[:,1]"
   ]
  },
  {
   "cell_type": "code",
   "execution_count": 7,
   "id": "595222d2",
   "metadata": {},
   "outputs": [
    {
     "ename": "LoadError",
     "evalue": "UndefVarError: G2 not defined",
     "output_type": "error",
     "traceback": [
      "UndefVarError: G2 not defined",
      "",
      "Stacktrace:",
      " [1] top-level scope",
      "   @ In[7]:1",
      " [2] eval",
      "   @ ./boot.jl:373 [inlined]",
      " [3] include_string(mapexpr::typeof(REPL.softscope), mod::Module, code::String, filename::String)",
      "   @ Base ./loading.jl:1196"
     ]
    }
   ],
   "source": [
    "G= G2-G1"
   ]
  },
  {
   "cell_type": "code",
   "execution_count": 8,
   "id": "8e977132",
   "metadata": {},
   "outputs": [
    {
     "ename": "LoadError",
     "evalue": "UndefVarError: G3 not defined",
     "output_type": "error",
     "traceback": [
      "UndefVarError: G3 not defined",
      "",
      "Stacktrace:",
      " [1] top-level scope",
      "   @ :0",
      " [2] eval",
      "   @ ./boot.jl:373 [inlined]",
      " [3] include_string(mapexpr::typeof(REPL.softscope), mod::Module, code::String, filename::String)",
      "   @ Base ./loading.jl:1196"
     ]
    }
   ],
   "source": [
    "G3"
   ]
  },
  {
   "cell_type": "code",
   "execution_count": 9,
   "id": "d341729d",
   "metadata": {},
   "outputs": [
    {
     "ename": "LoadError",
     "evalue": "UndefVarError: G not defined",
     "output_type": "error",
     "traceback": [
      "UndefVarError: G not defined",
      "",
      "Stacktrace:",
      " [1] top-level scope",
      "   @ ./In[9]:7",
      " [2] eval",
      "   @ ./boot.jl:373 [inlined]",
      " [3] include_string(mapexpr::typeof(REPL.softscope), mod::Module, code::String, filename::String)",
      "   @ Base ./loading.jl:1196"
     ]
    }
   ],
   "source": [
    "D = OffsetArray(zeros(N+2, N+2), 1:N+2, 1:N+2)\n",
    "for i in 1:N+2\n",
    "    for j in 1:N+2\n",
    "        if i!=j\n",
    "            D[i,j]=0\n",
    "        else\n",
    "            D[i,j]=G[i,j]\n",
    "        end\n",
    "    end\n",
    "end"
   ]
  },
  {
   "cell_type": "code",
   "execution_count": 10,
   "id": "d4aa75d9",
   "metadata": {},
   "outputs": [
    {
     "data": {
      "text/plain": [
       "5-element OffsetArray(::Vector{Float64}, 1:5) with eltype Float64 with indices 1:5:\n",
       " 0.0\n",
       " 0.0\n",
       " 0.0\n",
       " 0.0\n",
       " 0.0"
      ]
     },
     "execution_count": 10,
     "metadata": {},
     "output_type": "execute_result"
    }
   ],
   "source": [
    "D*v"
   ]
  },
  {
   "cell_type": "code",
   "execution_count": 11,
   "id": "d19c0d26",
   "metadata": {},
   "outputs": [
    {
     "data": {
      "text/plain": [
       "5×5 Matrix{Float64}:\n",
       "  0.35676     0.0215869  -0.0477638  -0.0199192  -0.501326\n",
       "  0.0215869   0.0929621  -0.0217487  -0.022635   -0.166153\n",
       " -0.0477638  -0.0217487   0.041454   -0.0210429   0.0607697\n",
       " -0.0199192  -0.022635   -0.0210429   0.0357418   0.0751542\n",
       " -0.501326   -0.166153    0.0607697   0.0751542   1.0"
      ]
     },
     "execution_count": 11,
     "metadata": {},
     "output_type": "execute_result"
    }
   ],
   "source": [
    "G1"
   ]
  },
  {
   "cell_type": "code",
   "execution_count": 12,
   "id": "4adeef4e",
   "metadata": {},
   "outputs": [
    {
     "ename": "LoadError",
     "evalue": "UndefVarError: 𝐟′ not defined",
     "output_type": "error",
     "traceback": [
      "UndefVarError: 𝐟′ not defined",
      "",
      "Stacktrace:",
      " [1] top-level scope",
      "   @ In[12]:1",
      " [2] eval",
      "   @ ./boot.jl:373 [inlined]",
      " [3] include_string(mapexpr::typeof(REPL.softscope), mod::Module, code::String, filename::String)",
      "   @ Base ./loading.jl:1196"
     ]
    }
   ],
   "source": [
    "A_mat_f(0,1, α, 𝐟′, 𝐰)"
   ]
  },
  {
   "cell_type": "code",
   "execution_count": 13,
   "id": "b1ac0f13",
   "metadata": {},
   "outputs": [
    {
     "ename": "LoadError",
     "evalue": "UndefVarError: G not defined",
     "output_type": "error",
     "traceback": [
      "UndefVarError: G not defined",
      "",
      "Stacktrace:",
      " [1] top-level scope",
      "   @ In[13]:1",
      " [2] eval",
      "   @ ./boot.jl:373 [inlined]",
      " [3] include_string(mapexpr::typeof(REPL.softscope), mod::Module, code::String, filename::String)",
      "   @ Base ./loading.jl:1196"
     ]
    }
   ],
   "source": [
    "eigvals(G)"
   ]
  },
  {
   "cell_type": "code",
   "execution_count": 14,
   "id": "b5ff4ebd",
   "metadata": {},
   "outputs": [
    {
     "ename": "LoadError",
     "evalue": "UndefVarError: G2 not defined",
     "output_type": "error",
     "traceback": [
      "UndefVarError: G2 not defined",
      "",
      "Stacktrace:",
      " [1] top-level scope",
      "   @ In[14]:1",
      " [2] eval",
      "   @ ./boot.jl:373 [inlined]",
      " [3] include_string(mapexpr::typeof(REPL.softscope), mod::Module, code::String, filename::String)",
      "   @ Base ./loading.jl:1196"
     ]
    }
   ],
   "source": [
    "eigvecs(G2)"
   ]
  },
  {
   "cell_type": "code",
   "execution_count": 15,
   "id": "300f46ef",
   "metadata": {},
   "outputs": [
    {
     "ename": "LoadError",
     "evalue": "UndefVarError: G_star not defined",
     "output_type": "error",
     "traceback": [
      "UndefVarError: G_star not defined",
      "",
      "Stacktrace:",
      " [1] top-level scope",
      "   @ :0",
      " [2] eval",
      "   @ ./boot.jl:373 [inlined]",
      " [3] include_string(mapexpr::typeof(REPL.softscope), mod::Module, code::String, filename::String)",
      "   @ Base ./loading.jl:1196"
     ]
    }
   ],
   "source": [
    "G_star"
   ]
  },
  {
   "cell_type": "code",
   "execution_count": 16,
   "id": "d5fd9886",
   "metadata": {},
   "outputs": [
    {
     "ename": "LoadError",
     "evalue": "UndefVarError: G_star not defined",
     "output_type": "error",
     "traceback": [
      "UndefVarError: G_star not defined",
      "",
      "Stacktrace:",
      " [1] top-level scope",
      "   @ In[16]:1",
      " [2] eval",
      "   @ ./boot.jl:373 [inlined]",
      " [3] include_string(mapexpr::typeof(REPL.softscope), mod::Module, code::String, filename::String)",
      "   @ Base ./loading.jl:1196"
     ]
    }
   ],
   "source": [
    "G_star[1,1]=10"
   ]
  },
  {
   "cell_type": "code",
   "execution_count": 17,
   "id": "face8949",
   "metadata": {},
   "outputs": [
    {
     "ename": "LoadError",
     "evalue": "UndefVarError: G_star not defined",
     "output_type": "error",
     "traceback": [
      "UndefVarError: G_star not defined",
      "",
      "Stacktrace:",
      " [1] top-level scope",
      "   @ In[17]:1",
      " [2] eval",
      "   @ ./boot.jl:373 [inlined]",
      " [3] include_string(mapexpr::typeof(REPL.softscope), mod::Module, code::String, filename::String)",
      "   @ Base ./loading.jl:1196"
     ]
    }
   ],
   "source": [
    "eigvals(G_star)"
   ]
  },
  {
   "cell_type": "code",
   "execution_count": 18,
   "id": "fe545c2e",
   "metadata": {},
   "outputs": [
    {
     "ename": "LoadError",
     "evalue": "UndefVarError: G_star not defined",
     "output_type": "error",
     "traceback": [
      "UndefVarError: G_star not defined",
      "",
      "Stacktrace:",
      " [1] top-level scope",
      "   @ ./In[18]:7",
      " [2] eval",
      "   @ ./boot.jl:373 [inlined]",
      " [3] include_string(mapexpr::typeof(REPL.softscope), mod::Module, code::String, filename::String)",
      "   @ Base ./loading.jl:1196"
     ]
    }
   ],
   "source": [
    "𝐰, 𝐟′, 𝐟 = data_generator_function(N,α, L) \n",
    "\n",
    "grad=OffsetArray(zeros(N+1), 0:N)\n",
    "coeff=OffsetArray(zeros(N+1), 0:N)\n",
    "func=OffsetArray(zeros(N+1), 0:N)\n",
    "for j in 0:N\n",
    "    grad[j]=tr(G_star*D_mat_f(j, j, 𝐟′))\n",
    "    coeff[j]=tr(G_star*E_mat_f(-1, j, 𝐟′,𝐰))\n",
    "    func[j]=F_star'𝐟[:,j]\n",
    "end\n",
    "\n",
    "alpha_lower = OffsetArray(zeros(N, N), 1:N, 0:N-1)\n",
    "\n",
    "for i in 1:N\n",
    "    for j in 0:i-1\n",
    "        alpha_lower[i,j]= (func[j]-func[i]+(1/(2*L))*grad[i]+(1/(2*L))*grad[j])/((1/L)*grad[j])\n",
    "    end\n",
    "end"
   ]
  },
  {
   "cell_type": "code",
   "execution_count": 19,
   "id": "0f1aa056",
   "metadata": {},
   "outputs": [
    {
     "data": {
      "text/plain": [
       "4-element OffsetArray(::Vector{Float64}, 0:3) with eltype Float64 with indices 0:3:\n",
       " 0.0\n",
       " 0.0\n",
       " 0.0\n",
       " 0.0"
      ]
     },
     "execution_count": 19,
     "metadata": {},
     "output_type": "execute_result"
    }
   ],
   "source": [
    "grad"
   ]
  },
  {
   "cell_type": "code",
   "execution_count": 457,
   "id": "ce059e49",
   "metadata": {},
   "outputs": [
    {
     "data": {
      "text/plain": [
       "8×8 OffsetArray(::Matrix{Float64}, 1:8, 1:8) with eltype Float64 with indices 1:8×1:8:\n",
       " 0.0  0.0  0.0  0.0  0.0  0.0  0.0  0.0\n",
       " 0.0  0.0  0.0  0.0  0.0  0.0  0.0  0.0\n",
       " 0.0  0.0  0.0  0.0  0.0  0.0  0.0  0.0\n",
       " 0.0  0.0  0.0  0.0  0.0  0.0  0.0  0.0\n",
       " 0.0  0.0  0.0  0.0  0.0  0.0  0.0  0.0\n",
       " 0.0  0.0  0.0  0.0  0.0  0.0  0.5  0.0\n",
       " 0.0  0.0  0.0  0.0  0.0  0.5  0.0  0.0\n",
       " 0.0  0.0  0.0  0.0  0.0  0.0  0.0  0.0"
      ]
     },
     "execution_count": 457,
     "metadata": {},
     "output_type": "execute_result"
    }
   ],
   "source": [
    "D1 = D_mat_f(2, 4, 𝐟′)\n",
    "D2 = D_mat_f(1, 4, 𝐟′)\n",
    "D3 = D_mat_f(3, 4, 𝐟′)"
   ]
  },
  {
   "cell_type": "code",
   "execution_count": 491,
   "id": "9211b594",
   "metadata": {},
   "outputs": [
    {
     "data": {
      "text/plain": [
       "8-element Vector{Float64}:\n",
       " 2.0420516199755806e-10\n",
       " 0.0031532460821050005\n",
       " 0.021078999899931557\n",
       " 0.028023785658715203\n",
       " 0.04457471801690229\n",
       " 0.10348060401746054\n",
       " 0.19670115116404868\n",
       " 1.19751807124202"
      ]
     },
     "execution_count": 491,
     "metadata": {},
     "output_type": "execute_result"
    }
   ],
   "source": [
    "eigvals(parent(G_star))"
   ]
  },
  {
   "cell_type": "code",
   "execution_count": 478,
   "id": "168fa8b2",
   "metadata": {},
   "outputs": [
    {
     "name": "stdout",
     "output_type": "stream",
     "text": [
      "[-0.01862648626817136, 0.0007100523268583908, 0.020090060637288038, 0.027865937410023276, 0.042365937923955474, 0.13768864266871886, 0.19746629153913176, 1.194330387419861][0.0004240350533170398, 0.008442472402108752, 0.02101145147444199, 0.029752906310609624, 0.04206729321009044, 0.1042123631028535, 0.19746629153913212, 1.1985140105651122][0.0002475033203227554, 0.004575085336673269, 0.020220128300345863, 0.026159858036179658, 0.045182227887889545, 0.10988610249383682, 0.19746629153913173, 1.1981536267432853][0.0003175911709035529, 0.0022329778752468513, 0.020247900025947178, 0.028582189427271122, 0.04564162143706105, 0.10918244628460314, 0.19746629153913134, 1.1982198058975015][-4.776836512812716e-7, 0.0013078936521798263, 0.02211685958371016, 0.02822468293516794, 0.045449374260461216, 0.10913040075528212, 0.19746629153913167, 1.1981957986153833][0.00044957719068623015, 0.004696860079451054, 0.021016475688732987, 0.028177909106839896, 0.04250727471398908, 0.10924075125996072, 0.19746629153913145, 1.1983356840788741][8.752028667632541e-5, 0.005361919950203139, 0.019629959159916454, 0.027023821253049907, 0.04573733743027655, 0.10834328446216394, 0.1974662915391312, 1.1982406895762483][0.0006186576341157107, 0.002233670283222337, 0.020196596252848763, 0.02817912642713064, 0.04670001769872259, 0.10820493056503679, 0.1974662915391317, 1.1982915332574566][0.0006107407199520507, 0.0013350369931298578, 0.022044054011443024, 0.028106007495963366, 0.04574353572784581, 0.10829592376662814, 0.19746629153913106, 1.1982892334035726][0.0012467576478514897, 0.003804097994988837, 0.02083369289274143, 0.024961416462286112, 0.046930053476253515, 0.10832896425556203, 0.19746629153913198, 1.19831954938885][0.0008045545592564769, 0.0029205460719848547, 0.020247255682718502, 0.030227558061169436, 0.043693687750367236, 0.10821321327791227, 0.19746629153913192, 1.1983177167151244][0.000625203356291423, 0.002495905495172753, 0.021032944677784687, 0.02818787998064022, 0.04538928959966462, 0.10837224895340467, 0.19746629153913145, 1.198321060055576][0.002199950185490905, 0.003722024178581425, 0.019827884590928317, 0.02683839025998503, 0.045059682265442144, 0.1084459020355585, 0.19746629153913145, 1.1983306986025477][0.0010905446302671466, 0.003082376958763493, 0.019594147964185425, 0.028531133634518334, 0.045384226164515, 0.10841605133355116, 0.19746629153913212, 1.1983260514327334][0.0012976425526171687, 0.007513528422425932, 0.014528387404855963, 0.028713646252438208, 0.0455975612485572, 0.10844248612510822, 0.19746629153913156, 1.1983312801125305]"
     ]
    }
   ],
   "source": [
    "for i in 0:N\n",
    "    for j in i+1:N\n",
    "        P= G_star-(tr(G_star * D_mat_f(i, j, 𝐟′)) / tr( D_mat_f(i, j, 𝐟′)* D_mat_f(i, j, 𝐟′)) )*D_mat_f(i, j, 𝐟′)\n",
    "        a=eigvals(parent(P))\n",
    "        print(a)\n",
    "    end\n",
    "end"
   ]
  },
  {
   "cell_type": "code",
   "execution_count": 481,
   "id": "b6831898",
   "metadata": {},
   "outputs": [
    {
     "data": {
      "text/plain": [
       "8×8 OffsetArray(::Matrix{Float64}, 1:8, 1:8) with eltype Float64 with indices 1:8×1:8:\n",
       "  1.0          -1.66231e-16  -0.392123    …   0.0297827     0.0298196\n",
       " -1.66231e-16   0.197466      1.4088e-16      1.73483e-16  -1.90927e-16\n",
       " -0.392123      1.4088e-16    0.243213       -0.00559209   -0.00683579\n",
       " -0.182995     -5.08191e-17   0.0            -0.00387824   -0.00409928\n",
       " -0.0229093     5.14307e-18  -0.0168128      -0.00747646   -0.0019442\n",
       "  0.0229106    -2.29321e-17  -0.0106426   …  -0.007407     -0.00327691\n",
       "  0.0297827     1.73483e-16  -0.00559209      0.0157765    -0.00702726\n",
       "  0.0298196    -1.90927e-16  -0.00683579     -0.00702726    0.0134867"
      ]
     },
     "execution_count": 481,
     "metadata": {},
     "output_type": "execute_result"
    }
   ],
   "source": [
    "i,j = 0 , 1\n",
    "P = G_star-(tr(G_star * D_mat_f(i, j, 𝐟′)) / tr( D_mat_f(i, j, 𝐟′)* D_mat_f(i, j, 𝐟′)) )*D_mat_f(i, j, 𝐟′)"
   ]
  },
  {
   "cell_type": "code",
   "execution_count": 482,
   "id": "6daa1014",
   "metadata": {},
   "outputs": [
    {
     "data": {
      "text/plain": [
       "8-element Vector{Float64}:\n",
       " -0.01862648626817136\n",
       "  0.0007100523268583908\n",
       "  0.020090060637288038\n",
       "  0.027865937410023276\n",
       "  0.042365937923955474\n",
       "  0.13768864266871886\n",
       "  0.19746629153913176\n",
       "  1.194330387419861"
      ]
     },
     "execution_count": 482,
     "metadata": {},
     "output_type": "execute_result"
    }
   ],
   "source": [
    "eigvals(parent(P))"
   ]
  },
  {
   "cell_type": "code",
   "execution_count": 488,
   "id": "d44e4507",
   "metadata": {},
   "outputs": [
    {
     "data": {
      "text/plain": [
       "0.03935220334899613"
      ]
     },
     "execution_count": 488,
     "metadata": {},
     "output_type": "execute_result"
    }
   ],
   "source": [
    "tr(G_star * D_mat_f(0, 1, 𝐟′))"
   ]
  },
  {
   "cell_type": "code",
   "execution_count": 875,
   "id": "cedb43c6",
   "metadata": {},
   "outputs": [],
   "source": [
    "γ = OffsetArray(zeros(N+2, N+2), -1:N, -1:N)\n",
    "for i in -1:N\n",
    "    for j in -1:N\n",
    "        #γ[i,j]=tr(G_star*( A_mat_f(i, j, α, 𝐟′, 𝐰)))\n",
    "       γ[i,j]=F_star'*a_vec_f(i, j, 𝐟) + tr(G2*( A_mat_f(i, j, α, 𝐟′, 𝐰)+ (1/(2*L)) * C_mat_f(i, j, 𝐟′) ) )\n",
    "    end\n",
    "end"
   ]
  },
  {
   "cell_type": "code",
   "execution_count": 876,
   "id": "e718e755",
   "metadata": {},
   "outputs": [
    {
     "data": {
      "text/plain": [
       "5×5 OffsetArray(::Matrix{Float64}, -1:3, -1:3) with eltype Float64 with indices -1:3×-1:3:\n",
       "  0.0         -2.09353e-9  -3.06018e-10   1.53595e-9   -1.64169e-8\n",
       " -0.153285     0.0          1.30725e-9   -0.147451     -0.218736\n",
       " -0.0663036   -0.0807707    0.0           6.93873e-9   -0.149314\n",
       " -5.61741e-6  -3.82892e-5  -3.25157e-5    0.0           8.53807e-9\n",
       "  2.57412e-9  -1.01e-7     -1.45712e-8   -9.22805e-10   0.0"
      ]
     },
     "execution_count": 876,
     "metadata": {},
     "output_type": "execute_result"
    }
   ],
   "source": [
    "γ"
   ]
  },
  {
   "cell_type": "code",
   "execution_count": 841,
   "id": "f1fd9b75",
   "metadata": {},
   "outputs": [
    {
     "data": {
      "text/plain": [
       "5×5 OffsetArray(::Matrix{Float64}, -1:3, -1:3) with eltype Float64 with indices -1:3×-1:3:\n",
       "  0.0        -6.20969e-9   3.48553e-9    2.06829e-8   1.85893e-8\n",
       " -0.144566    0.0         -6.42038e-10  -0.157572    -0.199801\n",
       " -0.0382624  -0.135773     0.0           1.59744e-8  -0.0585517\n",
       " -0.0272962  -0.161172    -0.0658091     0.0          2.04312e-8\n",
       " -0.0198215  -0.116929    -0.0477601    -4.21334e-5   0.0"
      ]
     },
     "execution_count": 841,
     "metadata": {},
     "output_type": "execute_result"
    }
   ],
   "source": [
    "γ"
   ]
  },
  {
   "cell_type": "code",
   "execution_count": 837,
   "id": "538a42f2",
   "metadata": {},
   "outputs": [
    {
     "data": {
      "text/plain": [
       "5×5 OffsetArray(::Matrix{Float64}, -1:3, -1:3) with eltype Float64 with indices -1:3×-1:3:\n",
       "  0.0        -1.32919e-9   2.52794e-9   9.7571e-9    8.83829e-9\n",
       " -0.0818989   0.0          1.50134e-9  -0.0253078   -0.0382104\n",
       " -0.0565911  -0.0253059    0.0          7.56323e-9  -0.0129026\n",
       " -0.0436885  -0.0266638   -0.012896     0.0          9.46043e-9\n",
       " -0.0316963  -0.0193449   -0.00935799  -6.82773e-6   0.0"
      ]
     },
     "execution_count": 837,
     "metadata": {},
     "output_type": "execute_result"
    }
   ],
   "source": [
    "γ"
   ]
  },
  {
   "cell_type": "code",
   "execution_count": 411,
   "id": "8c4c0fa6",
   "metadata": {},
   "outputs": [
    {
     "data": {
      "text/plain": [
       "6-element Vector{Float64}:\n",
       " -0.2929813305956378\n",
       " -1.5259755789374353e-8\n",
       "  1.6679593754197695e-5\n",
       "  0.010588375681233133\n",
       "  0.07293748653880101\n",
       "  0.20943880404160498"
      ]
     },
     "execution_count": 411,
     "metadata": {},
     "output_type": "execute_result"
    }
   ],
   "source": [
    "eigvals(parent(γ))"
   ]
  },
  {
   "cell_type": "code",
   "execution_count": 471,
   "id": "3f521ed1",
   "metadata": {},
   "outputs": [
    {
     "data": {
      "text/plain": [
       "construct_grammian (generic function with 2 methods)"
      ]
     },
     "execution_count": 471,
     "metadata": {},
     "output_type": "execute_result"
    }
   ],
   "source": [
    "function construct_grammian(N,L,G_star)\n",
    "    G = OffsetArray(zeros(N+1, N+1), 0:N, 0:N)\n",
    "    α=new_ogm(N)\n",
    "    𝐰, 𝐟′, 𝐟 = data_generator_function(N, α,  L)\n",
    "    \n",
    "    for i in 0:N\n",
    "        for j in 0:N\n",
    "            G[i,j]= tr(G_star*D_mat_f(i, j, 𝐟′))\n",
    "        end\n",
    "    end\n",
    "     \n",
    "    return G\n",
    "end"
   ]
  },
  {
   "cell_type": "code",
   "execution_count": 472,
   "id": "6fb3e804",
   "metadata": {},
   "outputs": [
    {
     "data": {
      "text/plain": [
       "6×6 OffsetArray(::Matrix{Float64}, 0:5, 0:5) with eltype Float64 with indices 0:5×0:5:\n",
       "  0.243213     0.0340847   -0.0168128   -0.0106426   -0.00559209  -0.00683579\n",
       "  0.0340847    0.0743818   -0.00335002  -0.0117029   -0.00387824  -0.00409928\n",
       " -0.0168128   -0.00335002   0.0350735   -0.00493655  -0.00747646  -0.0019442\n",
       " -0.0106426   -0.0117029   -0.00493655   0.0224929   -0.007407    -0.00327691\n",
       " -0.00559209  -0.00387824  -0.00747646  -0.007407     0.0157765   -0.00702726\n",
       " -0.00683579  -0.00409928  -0.0019442   -0.00327691  -0.00702726   0.0134867"
      ]
     },
     "execution_count": 472,
     "metadata": {},
     "output_type": "execute_result"
    }
   ],
   "source": [
    "G=construct_grammian(N,L,G_star)"
   ]
  },
  {
   "cell_type": "code",
   "execution_count": 417,
   "id": "961c2bba",
   "metadata": {},
   "outputs": [
    {
     "data": {
      "text/plain": [
       "5-element Vector{Float64}:\n",
       " 0.0005887298948850303\n",
       " 0.02780508538352686\n",
       " 0.044499688676529016\n",
       " 0.08137342911737269\n",
       " 0.2950311129739603"
      ]
     },
     "execution_count": 417,
     "metadata": {},
     "output_type": "execute_result"
    }
   ],
   "source": [
    "eigvals(parent(G))"
   ]
  },
  {
   "cell_type": "code",
   "execution_count": 81,
   "id": "ca7966ef",
   "metadata": {},
   "outputs": [
    {
     "data": {
      "text/plain": [
       "5×5 OffsetArray(::Matrix{Float64}, 0:4, 0:4) with eltype Float64 with indices 0:4×0:4:\n",
       "  0.0660946     5.61342e-15   5.73804e-16   3.91333e-15  -5.42786e-16\n",
       "  5.61342e-15   0.0204245    -2.72843e-15  -9.45208e-16  -2.25148e-15\n",
       "  5.73804e-16  -2.72843e-15   0.0104102    -2.37354e-16  -1.4124e-15\n",
       "  3.91333e-15  -9.45208e-16  -2.37354e-16   0.00641661   -5.41688e-17\n",
       " -5.42786e-16  -2.25148e-15  -1.4124e-15   -5.41688e-17   0.00651773"
      ]
     },
     "execution_count": 81,
     "metadata": {},
     "output_type": "execute_result"
    }
   ],
   "source": [
    " 0.356761    0.0215865  -0.047764   -0.0199191\n",
    "  0.0215865   0.0929622  -0.0217487  -0.0226351\n",
    " -0.047764   -0.0217487   0.041454   -0.0210429\n",
    " -0.0199191  -0.0226351  -0.0210429   0.0357417"
   ]
  },
  {
   "cell_type": "code",
   "execution_count": 75,
   "id": "99477b9b",
   "metadata": {},
   "outputs": [
    {
     "name": "stdout",
     "output_type": "stream",
     "text": [
      "-0.03239537075429325-0.06806000978154811-0.09761326046863925-0.06388778736810996"
     ]
    }
   ],
   "source": [
    "for i in 1:N\n",
    "    print(sum(α[i,k]*G[k,3] for k in 0:i-1))\n",
    "end"
   ]
  },
  {
   "cell_type": "code",
   "execution_count": 95,
   "id": "598a059a",
   "metadata": {},
   "outputs": [
    {
     "name": "stdout",
     "output_type": "stream",
     "text": [
      "0.066094623539094012.7220269701450084e-9-0.02042448748858703-0.030834624591446095-0.0372512223919009150.086519123306706330.020424502489639281.2279025281801415e-8-0.010410124823833784-0.01682672262428860.096929263085601870.030834642268534830.0104101520579208281.4955061762318006e-8-0.0064165828453930520.103345862119912590.0372512413028455450.0168267510922315460.00641661398937248051.6188917666918462e-80.109863574562624540.04376895374555750.0233444635349434950.012934326432084430.006517728631629615"
     ]
    }
   ],
   "source": [
    "for i in 0:N\n",
    "    for j in 0:N\n",
    "        print(-F_star[i+2]+F_star[j+2]+(1/2)*G[i,i]+(1/2)*G[j,j])\n",
    "    end\n",
    "end"
   ]
  },
  {
   "cell_type": "code",
   "execution_count": 94,
   "id": "a3dcdf27",
   "metadata": {},
   "outputs": [
    {
     "ename": "LoadError",
     "evalue": "BoundsError: attempt to access 6-element Vector{Float64} at index [7]",
     "output_type": "error",
     "traceback": [
      "BoundsError: attempt to access 6-element Vector{Float64} at index [7]",
      "",
      "Stacktrace:",
      " [1] getindex(A::Vector{Float64}, i1::Int64)",
      "   @ Base ./array.jl:861",
      " [2] top-level scope",
      "   @ In[94]:1",
      " [3] eval",
      "   @ ./boot.jl:373 [inlined]",
      " [4] include_string(mapexpr::typeof(REPL.softscope), mod::Module, code::String, filename::String)",
      "   @ Base ./loading.jl:1196"
     ]
    }
   ],
   "source": [
    "F_star[7]"
   ]
  },
  {
   "cell_type": "code",
   "execution_count": 20,
   "id": "34b4a32a",
   "metadata": {},
   "outputs": [
    {
     "data": {
      "text/plain": [
       "BnB_PEP_solver (generic function with 1 method)"
      ]
     },
     "execution_count": 20,
     "metadata": {},
     "output_type": "execute_result"
    }
   ],
   "source": [
    "##dual\n",
    "function solve_inner_dual(N, L, α, R; \n",
    "        show_output = :off, \n",
    "        ϵ_tol = 1e-6, \n",
    "        objective_type = :default, \n",
    "        obj_val_upper_bound = default_obj_val_upper_bound)\n",
    "\n",
    "    𝐰, 𝐟′, 𝐟 = data_generator_function(N, α, L)\n",
    "\n",
    "    dim_Z=N+3\n",
    "    idx_set_λ = index_set_constructor(N)\n",
    "\n",
    "    #model\n",
    "    model_dual = Model(optimizer_with_attributes(Mosek.Optimizer))\n",
    "\n",
    "    #variables\n",
    "    \n",
    "    @variable(model_dual, λ[idx_set_λ] >= 0)\n",
    "    @variable(model_dual, ν >= 0)\n",
    "    @variable(model_dual, Z[1:dim_Z, 1:dim_Z], PSD)\n",
    "    \n",
    "    #objectives\n",
    "\n",
    "    if objective_type == :default\n",
    "        # objective 0: define default objective\n",
    "        @objective(model_dual, Min,  ν*R^2)\n",
    "        @constraint(model_dual, ν*R^2 <= obj_val_upper_bound)\n",
    "\n",
    "    elseif objective_type == :sparsify_λ\n",
    "        # objective 1: sparse dual solution in λ\n",
    "        @objective(model_dual, Min, sum(λ[i_j] for i_j in idx_set_λ)  )\n",
    "        @constraint(model_dual, ν*R^2 <= obj_val_upper_bound)\n",
    "           \n",
    "    elseif objective_type == :sparsify_Z\n",
    "        # objective 3: sparse dual solution in Z\n",
    "        @objective(model_dual, Min, tr(Z) )\n",
    "        @constraint(model_dual, ν*R^2 <= obj_val_upper_bound)\n",
    "        \n",
    "    elseif objective_type == :find_M_λ\n",
    "        # objective 4: to compute M_λ\n",
    "        @objective(model_dual, Max, sum(λ[i_j] for i_j in idx_set_λ))\n",
    "        @constraint(model_dual, ν*R^2 <= obj_val_upper_bound)\n",
    "\n",
    "    elseif objective_type == :find_M_Z\n",
    "        # objective 6: to compute M_Z\n",
    "        @objective(model_dual, Max, tr(Z))\n",
    "        @constraint(model_dual, ν*R^2 <= obj_val_upper_bound)\n",
    "    end\n",
    "    \n",
    "    #constraints\n",
    "\n",
    "    @constraint(model_dual, -a_vec_f(-1, N, 𝐟) +\n",
    "    sum( λ[i_j_λ]*a_vec_f(i_j_λ.i, i_j_λ.j, 𝐟) for i_j_λ in idx_set_λ).==0)\n",
    "\n",
    "    @constraint(model_dual, \n",
    "    sum( λ[i_j_λ]*( A_mat_f(i_j_λ.i, i_j_λ.j, α,  𝐟′, 𝐰) + (1/(2*L)) * C_mat_f(i_j_λ.i, i_j_λ.j, 𝐟′) ) for i_j_λ in idx_set_λ)\n",
    "    + ν*B_mat(0, -1, α, 𝐰).== Z)\n",
    "    \n",
    "    \n",
    "    #optimize\n",
    "    \n",
    "    if show_output == :off\n",
    "        set_silent(model_dual)\n",
    "    end\n",
    "    \n",
    "    optimize!(model_dual)\n",
    "\n",
    "    if termination_status(model_dual) != MOI.OPTIMAL\n",
    "        @info \"💀💀💀💀💀💀💀💀💀💀💀💀💀💀💀💀💀💀💀💀💀💀💀💀💀💀💀💀💀\"\n",
    "        @error \"dual did not reach optimality;  termination status = \" termination_status(model_dual)\n",
    "    end\n",
    "\n",
    "    \n",
    "    #store and return\n",
    "    λ_opt = value.(λ)\n",
    "    ν_opt = value.(ν)\n",
    "    Z_opt = value.(Z)\n",
    "    L_cholesky_opt =  compute_pivoted_cholesky_L_mat(Z_opt)\n",
    "    obj_val_dual = objective_value(model_dual)\n",
    "          \n",
    "    if norm(Z_opt - L_cholesky_opt*L_cholesky_opt', Inf) >  ϵ_tol\n",
    "        @warn \"||Z - L*L^T|| = $(norm(Z_opt - L_cholesky_opt*L_cholesky_opt', Inf))\"\n",
    "    end\n",
    "   \n",
    "    #some heuristics (For now, focus on upper bounds and effective indices)\n",
    "\n",
    "    idx_set_λ_effective = effective_index_set_finder(λ_opt, ϵ_tol)\n",
    "    l1_norm_λ = sum(λ_opt)\n",
    "    tr_Z = tr(Z_opt)\n",
    "    sparse_sol_obj_val = l1_norm_λ \n",
    "    \n",
    "    @info \"performance measure of dual is $(obj_val_dual)\"\n",
    "\n",
    "    return obj_val_dual, l1_norm_λ, tr_Z, sparse_sol_obj_val, λ_opt, ν_opt, Z_opt, L_cholesky_opt, idx_set_λ_effective\n",
    "    \n",
    "end\n",
    "\n",
    "\n",
    "## BnB-PEP solver main function\n",
    "# =============================\n",
    "\n",
    "function BnB_PEP_solver(N, L, R,\n",
    "    # solutions to warm-start\n",
    "    obj_val_dual, λ_ws, ν_ws, Z_ws, L_cholesky_ws, \n",
    "    α_ws, idx_set_λ_effective_ws, \n",
    "    # upper bounds\n",
    "    M_λ, M_ν, M_Z, M_L_cholesky ;\n",
    "    # options    \n",
    "    solution_type = :find_locally_optimal, # other option :find_globally_optimal \n",
    "    show_output = :off, # other option :on\n",
    "    reduce_index_set_for_λ = :for_warm_start_only,\n",
    "    # on  : force not effective sets 0 \n",
    "    # off , do nothing \n",
    "    # for_warm_start_only , =off but warm start from effective indices\n",
    "    reduce_index_set_for_L_cholesky = :off, \n",
    "    positive_step_size = :off, \n",
    "    quadratic_equality_modeling = :through_ϵ,  #no other options yet\n",
    "    ϵ_tol = 1e-6, \n",
    "    ϵ_tol_Cholesky = 0.0005, \n",
    "    global_lower_bound = 0.0, \n",
    "    local_solver = :ipopt, # options are :knitro and :ipopt\n",
    "    fix_diagonals =:on\n",
    "    )\n",
    "\n",
    "    dim_Z = N+3\n",
    "\n",
    "    # model\n",
    "    # =====\n",
    "\n",
    "    if solution_type == :find_globally_optimal\n",
    "            \n",
    "        BnB_PEP_model =  Model(Gurobi.Optimizer)\n",
    "\n",
    "        set_optimizer_attribute(BnB_PEP_model, \"NonConvex\", 2)\n",
    "        #NonConvex = 2 for nonconvex spatial branching\n",
    "\n",
    "        set_optimizer_attribute(BnB_PEP_model, \"MIPFocus\", 2)\n",
    "            \n",
    "        #The MIPFocus parameter allows you to modify your high-level solution strategy, \n",
    "        #depending on your goals. By default, the Gurobi MIP solver strikes \n",
    "        #a balance between finding new feasible solutions and proving that the current solution is optimal. \n",
    "        #If you are more interested in finding feasible solutions quickly, you can select MIPFocus=1. \n",
    "        #If you believe the solver is having no trouble finding good quality solutions, \n",
    "        #and wish to focus more attention on proving optimality, select MIPFocus=2. \n",
    "        #If the best objective bound is moving very slowly (or not at all)\n",
    "        #, you may want to try MIPFocus=3 to focus on the bound.\n",
    "\n",
    "        set_optimizer_attribute(BnB_PEP_model, \"MIPGap\", 1e-2) \n",
    "        #The MIP solver will terminate (with an optimal result) when the gap between \n",
    "        #the lower and upper objective bound is less than \n",
    "        #MIPGap times the absolute value of the incumbent objective value.\n",
    "\n",
    "    elseif solution_type == :find_locally_optimal\n",
    "\n",
    "        if local_solver == :ipopt\n",
    "        \n",
    "            BnB_PEP_model = Model(Ipopt.Optimizer)\n",
    "\n",
    "        elseif local_solver == :knitro \n",
    "\n",
    "            BnB_PEP_model = Model(\n",
    "                optimizer_with_attributes(\n",
    "                KNITRO.Optimizer,\n",
    "                \"convex\" => 0,\n",
    "                \"strat_warm_start\" => 1,\n",
    "                # the last settings below are for larger N\n",
    "                \"honorbnds\" => 1\n",
    "                # \"bar_feasmodetol\" => 1e-3,\n",
    "                # \"feastol\" => 1e-4,\n",
    "                # \"infeastol\" => 1e-12,\n",
    "                # \"opttol\" => 1e-4\n",
    "                )\n",
    "            )\n",
    "\n",
    "        end\n",
    "        \n",
    "    end\n",
    "\n",
    "    #variables\n",
    "    @info \"adding variables\"\n",
    "            \n",
    "    #stepsizes α,β,ϕ,ψ\n",
    "            \n",
    "    if positive_step_size == :off\n",
    "        @variable(BnB_PEP_model, α[i=1:N, j=0:N-1])\n",
    "    elseif positive_step_size == :on\n",
    "        @variable(BnB_PEP_model, α[i=1:N, j=0:N-1] >= 0)\n",
    "    end\n",
    "\n",
    "\n",
    "    #λ, τ\n",
    "\n",
    "    if reduce_index_set_for_λ == :off\n",
    "        idx_set_λ = index_set_constructor(N)\n",
    "        @variable(BnB_PEP_model, λ[idx_set_λ] >= 0)\n",
    "    elseif reduce_index_set_for_λ == :on\n",
    "        idx_set_λ = idx_set_λ_effective_ws\n",
    "        @variable(BnB_PEP_model, λ[idx_set_λ] >= 0)\n",
    "    elseif reduce_index_set_for_λ == :for_warm_start_only   \n",
    "        idx_set_λ = index_set_constructor(N)\n",
    "        idx_set_λ_ws = idx_set_λ_effective_ws    \n",
    "        @variable(BnB_PEP_model, λ[idx_set_λ] >= 0) #define λ for all index sets\n",
    "    end\n",
    "        \n",
    "    #γ,ν,Z,cholskey\n",
    "    @variable(BnB_PEP_model, ν >= 0)\n",
    "    @variable(BnB_PEP_model, Z[1:dim_Z, 1:dim_Z], Symmetric)\n",
    "    @variable(BnB_PEP_model, L_cholesky[1:dim_Z, 1:dim_Z])\n",
    "    \n",
    "      \n",
    "    \n",
    "    #objective\n",
    "    @info \"adding objective\"\n",
    "\n",
    "    @objective(BnB_PEP_model, Min,ν*R^2)  \n",
    "    #upper,lower bound\n",
    "    @constraint(BnB_PEP_model,  ν*R^2 <= 1.2*obj_val_dual) \n",
    "    @constraint(BnB_PEP_model,  ν*R^2 >= global_lower_bound)\n",
    "    \n",
    "    @info \"adding data generator\"\n",
    "    𝐰, 𝐟′, 𝐟 = data_generator_function(N, α,  L)\n",
    "    \n",
    "    \n",
    "                 \n",
    "    #constraints\n",
    "    @info \"adding constraints\"\n",
    "      \n",
    "#constraints\n",
    "\n",
    "    @constraint(BnB_PEP_model, -a_vec_f(-1, N, 𝐟) +\n",
    "    sum( λ[i_j_λ]*a_vec_f(i_j_λ.i, i_j_λ.j, 𝐟) for i_j_λ in idx_set_λ).==0)\n",
    "\n",
    "    @constraint(BnB_PEP_model, \n",
    "    vectorize(sum( λ[i_j_λ]*( A_mat_f(i_j_λ.i, i_j_λ.j, α,  𝐟′, 𝐰) + (1/(2*L)) * C_mat_f(i_j_λ.i, i_j_λ.j, 𝐟′) ) for i_j_λ in idx_set_λ)\n",
    "    + ν*B_mat(0, -1, α, 𝐰)-Z- ϵ_tol*ones(dim_Z,dim_Z),SymmetricMatrixShape(dim_Z)).<=0  ) \n",
    "    \n",
    "    @constraint(BnB_PEP_model, \n",
    "    vectorize(sum( λ[i_j_λ]*( A_mat_f(i_j_λ.i, i_j_λ.j, α,  𝐟′, 𝐰) + (1/(2*L)) * C_mat_f(i_j_λ.i, i_j_λ.j, 𝐟′) ) for i_j_λ in idx_set_λ)\n",
    "    + ν*B_mat(0, -1, α, 𝐰)-Z+ ϵ_tol*ones(dim_Z,dim_Z),SymmetricMatrixShape(dim_Z)).>=0  ) \n",
    "    \n",
    "            \n",
    "    # Cholesky things\n",
    "\n",
    "    for i in 1:dim_Z\n",
    "        for j in 1:dim_Z\n",
    "            if i < j\n",
    "                fix(L_cholesky[i,j], 0; force = true)\n",
    "            end\n",
    "        end\n",
    "    end\n",
    "\n",
    "    for i in 1:dim_Z\n",
    "        @constraint(BnB_PEP_model, L_cholesky[i,i] >= 0)\n",
    "    end\n",
    "\n",
    "    @constraint(BnB_PEP_model, vectorize(Z - (L_cholesky * L_cholesky') - ϵ_tol*ones(dim_Z,dim_Z), \n",
    "                    SymmetricMatrixShape(dim_Z)) .<= 0)\n",
    "    @constraint(BnB_PEP_model, vectorize(Z - (L_cholesky * L_cholesky') + ϵ_tol*ones(dim_Z,dim_Z), \n",
    "                    SymmetricMatrixShape(dim_Z)) .>= 0)\n",
    "                        \n",
    "    if reduce_index_set_for_L_cholesky == :on\n",
    "        zeroindex = zero_finder_cholesky(L_cholesky_ws; ϵ_tol = ϵ_tol_Cholesky)\n",
    "        for k in 1:length(zeroindex)\n",
    "            fix(L_cholesky[CartesianIndex(zeroindex[k])], 0; force = true)\n",
    "        end\n",
    "    end\n",
    "\n",
    "    # implicit constraints\n",
    "            \n",
    "    for i in 1:dim_Z\n",
    "        @constraint(BnB_PEP_model, Z[i,i] >= 0)\n",
    "    end\n",
    "            \n",
    "    for i in 1:dim_Z\n",
    "        for j in 1:dim_Z\n",
    "            if i != j\n",
    "                @constraint(BnB_PEP_model, Z[i,j] <= (0.5*(Z[i,i] + Z[j,j])))\n",
    "                @constraint(BnB_PEP_model, -0.5*(Z[i,i] + Z[j,j]) <= Z[i,j])\n",
    "            end\n",
    "        end\n",
    "    end\n",
    "    \n",
    "    for i in 0:N-1\n",
    "        for j in 0:N-1\n",
    "            if j > i\n",
    "                fix(α[i+1,j], 0; force = true)\n",
    "            end\n",
    "        end\n",
    "    end\n",
    "\n",
    "            \n",
    "    #give bounds\n",
    "    @info \"adding upper bounds\"\n",
    "\n",
    "    set_upper_bound.(λ, M_λ)\n",
    "    set_upper_bound(ν, M_ν)\n",
    "            \n",
    "    for i in 1:dim_Z\n",
    "        for j in 1:dim_Z\n",
    "            set_lower_bound(Z[i,j], -M_Z)\n",
    "            set_upper_bound(Z[i,j], M_Z)\n",
    "        end\n",
    "    end\n",
    "    \n",
    "    for i in 1:dim_Z\n",
    "        set_upper_bound(L_cholesky[i,i], M_L_cholesky)\n",
    "    end\n",
    "\n",
    "    for i in 1:dim_Z\n",
    "        for j in 1:dim_Z\n",
    "            if i > j\n",
    "                set_lower_bound(L_cholesky[i,j], -M_L_cholesky)\n",
    "                set_upper_bound(L_cholesky[i,j], M_L_cholesky)\n",
    "            end\n",
    "        end\n",
    "    end\n",
    "    \n",
    "      \n",
    "    #warm start\n",
    "    @info \"setting warm-start values\"\n",
    "            \n",
    "    for i in 0:N-1\n",
    "        for j in 0:i\n",
    "            set_start_value(α[i+1,j], α_ws[i+1,j])\n",
    "        end\n",
    "    end\n",
    "    \n",
    "\n",
    "    if reduce_index_set_for_λ == :for_warm_start_only\n",
    "                \n",
    "        for i_j_λ in idx_set_λ_ws\n",
    "            set_start_value(λ[i_j_λ], λ_ws[i_j_λ])\n",
    "        end\n",
    "\n",
    "    else\n",
    "                \n",
    "        for i_j_λ in idx_set_λ\n",
    "            set_start_value(λ[i_j_λ], λ_ws[i_j_λ])\n",
    "        end\n",
    "                \n",
    "    end\n",
    "\n",
    "    set_start_value(ν, ν_ws)\n",
    "            \n",
    "    for i in 1:dim_Z\n",
    "        for j in 1:dim_Z\n",
    "            set_start_value(Z[i,j], Z_ws[i,j])\n",
    "            set_start_value(L_cholesky[i,j], L_cholesky_ws[i,j])\n",
    "        end\n",
    "    end\n",
    "    \n",
    "     \n",
    "    if fix_diagonals ==:on\n",
    "        a=new_ogm(N)\n",
    "        for i in 1:N-1\n",
    "            @constraint(BnB_PEP_model, α[N,i-1]==α[N-1,i-1])\n",
    "            fix(α[N,N-1],1, force=true )\n",
    "        end  \n",
    "    end\n",
    "       \n",
    "    # optimize\n",
    "    @info \"ready to optimize\"\n",
    "    \n",
    "    if show_output == :off\n",
    "        set_silent(BnB_PEP_model)\n",
    "    end\n",
    "\n",
    "    # Shuvo start\n",
    "\n",
    "    optimize!(BnB_PEP_model)\n",
    "\n",
    "    @info \"BnB_PEP_model has termination status = \" termination_status(BnB_PEP_model)\n",
    "\n",
    "    # store and return   \n",
    "    λ_opt = value.(λ)\n",
    "    ν_opt = value.(ν)\n",
    "    Z_opt = value.(Z)\n",
    "    L_cholesky_opt = value.(L_cholesky)\n",
    "\n",
    "    α_opt = value.(α)\n",
    "    idx_set_λ_opt_effective = effective_index_set_finder(λ_opt,ϵ_tol)   \n",
    " \n",
    "    obj_val = ν_opt*R^2 \n",
    "    \n",
    "    @info \"Objective value = $(obj_val)\"\n",
    "    \n",
    "    \n",
    "    if norm(Z_opt - L_cholesky_opt*L_cholesky_opt', Inf) > ϵ_tol\n",
    "        @warn \"||Z - L_cholesky*L_cholesky^T|| = $(norm(Z_opt -  L_cholesky_opt*L_cholesky_opt', Inf))\"\n",
    "    end\n",
    " \n",
    "        \n",
    "    return obj_val, λ_opt, ν_opt, Z_opt, L_cholesky_opt,\n",
    "    α_opt, idx_set_λ_opt_effective\n",
    "    \n",
    "    \n",
    "    @info \"α = $(α_opt)\" \n",
    "    \n",
    "    @info \"effective set for λ = $(idx_set_λ_opt_effective)\" \n",
    "\n",
    "end\n",
    "\n",
    "     "
   ]
  },
  {
   "cell_type": "code",
   "execution_count": 21,
   "id": "34752b9f",
   "metadata": {},
   "outputs": [
    {
     "data": {
      "text/plain": [
       "data_generator_function_OGM (generic function with 1 method)"
      ]
     },
     "execution_count": 21,
     "metadata": {},
     "output_type": "execute_result"
    }
   ],
   "source": [
    "function data_generator_function_OGM(N,L)\n",
    "\n",
    "    dim_𝐰 = N+2\n",
    "    dim_𝐟′ = N+2\n",
    "    dim_𝐟 = N+1\n",
    "    \n",
    "    𝐰_star = zeros(dim_𝐰, 1) #optimum\n",
    "    𝐰_0 = e_i(dim_𝐰, 1) #starting point\n",
    "    θ=get_theta(N)\n",
    "\n",
    "    #create gradients\n",
    "    \n",
    "    𝐟′ = OffsetArray(zeros(dim_𝐟′, N+2), 1:dim_𝐟′, -1:N) \n",
    "\n",
    "    # fill the elements of 𝐟′\n",
    "\n",
    "    for i in 0:N\n",
    "        𝐟′[:,i] = e_i(dim_𝐟′, i+2)\n",
    "    end\n",
    "    \n",
    "    #create function evaluations\n",
    "\n",
    "    𝐟 = OffsetArray(zeros(dim_𝐟, N+2), 1:dim_𝐟, -1:N)\n",
    "\n",
    "    # fill elements of 𝐟\n",
    "\n",
    "    for i in 0:N\n",
    "        𝐟[:,i] = e_i(dim_𝐟, i+1)\n",
    "    end   \n",
    "\n",
    "    #make 𝐰\n",
    "    \n",
    "    𝐰 = OffsetArray(Matrix{Any}(undef, dim_𝐰, N+2), 1:dim_𝐰, -1:N)\n",
    "    𝐳 = OffsetArray(Matrix{Any}(undef, dim_𝐰, N+2), 1:dim_𝐰, -1:N)\n",
    "\n",
    "    𝐰[:,-1] = 𝐰_star\n",
    "    𝐳[:,-1] = 𝐰_star\n",
    "\n",
    "    𝐰[:, 0] = 𝐰_0\n",
    "    𝐳[:,0] = 𝐰_0\n",
    "    \n",
    "    α=new_ogm(N)\n",
    "    #α=construct_GD_stepsizes(N)\n",
    "    for i in 0:N-1\n",
    "        𝐳[:, i+1] = 𝐳[:, i] - ((2*θ[i])/L)*𝐟′[:,i]\n",
    "        𝐰[:, i+1] = 𝐰_0 - (1/L)*sum(α[i+1,j]*𝐟′[:,j] for j in 0:i) \n",
    "    end\n",
    "\n",
    "    return 𝐰, 𝐟′, 𝐟 , 𝐳\n",
    "\n",
    "end"
   ]
  },
  {
   "cell_type": "code",
   "execution_count": 22,
   "id": "fe758966",
   "metadata": {},
   "outputs": [
    {
     "data": {
      "text/plain": [
       "solve_OGM_lya (generic function with 1 method)"
      ]
     },
     "execution_count": 22,
     "metadata": {},
     "output_type": "execute_result"
    }
   ],
   "source": [
    "##dual\n",
    "function solve_OGM_lya(N, L, F_star, G_star, λ_opt ; \n",
    "        show_output = :off, \n",
    "        ϵ_tol = 1e-6, )\n",
    "    \n",
    "    \n",
    "    α=new_ogm(N)\n",
    "    𝐰, 𝐟′, 𝐟 = data_generator_function(N, α, L)\n",
    "    θ=get_theta(N)\n",
    "    \n",
    "    #model\n",
    "    #model_dual = Model(optimizer_with_attributes(Mosek.Optimizer))\n",
    "    model_dual = Model(Gurobi.Optimizer)\n",
    "    set_optimizer_attribute(model_dual, \"NonConvex\", 2)\n",
    "    idx_set_λ = index_set_constructor(N)\n",
    "    \n",
    "    U1=sum( λ_opt[i_j_λ]* (F_star'*a_vec_f(i_j_λ.i, i_j_λ.j, 𝐟) + tr(G_star*( A_mat_f(i_j_λ.i, i_j_λ.j, α, 𝐟′, 𝐰)\n",
    "            + (1/(2*L)) * C_mat_f(i_j_λ.i, i_j_λ.j, 𝐟′) ) )) for i_j_λ in idx_set_λ)\n",
    "    \n",
    "    X = (L/(2*θ[N]^2))* tr(G_star*⊙(𝐰[:,0]-𝐰[:,-1], 𝐰[:,0]-𝐰[:,-1]))\n",
    "    \n",
    "    \n",
    "    #variables\n",
    "\n",
    "    @variable(model_dual, u[0:N])\n",
    "    @variable(model_dual, w>=0)\n",
    "        \n",
    "    obj= (F_star'a_vec_f(-1, N, 𝐟))\n",
    "    \n",
    "    z= sum( u[i]* 𝐟′[:,i] for i in 0:N)\n",
    "    \n",
    "    U2= (L/(2*θ[N]^2))*tr(G_star*⊙(w*𝐰[:,0]-z, w*𝐰[:,0]-z))\n",
    "\n",
    "    @constraint(model_dual, w^2==1)\n",
    "    \n",
    "    #objectives\n",
    "\n",
    "    @objective(model_dual, Min, U2+obj-U1-X)\n",
    "\n",
    "    \n",
    "    #optimize\n",
    "    \n",
    "    if show_output == :off\n",
    "        set_silent(model_dual)\n",
    "    end\n",
    "    \n",
    "    optimize!(model_dual)\n",
    "\n",
    "    if termination_status(model_dual) != MOI.OPTIMAL\n",
    "        @info \"💀💀💀💀💀💀💀💀💀💀💀💀💀💀💀💀💀💀💀💀💀💀💀💀💀💀💀💀💀\"\n",
    "        @error \"dual did not reach optimality;  termination status = \" termination_status(model_dual)\n",
    "    end\n",
    "    #store and return\n",
    "    u_opt = value.(u)\n",
    "    w_opt = value.(w)\n",
    "    obj_val_dual = objective_value(model_dual)\n",
    "          \n",
    "    @info \"performance measure of dual is $(obj_val_dual)\"\n",
    "\n",
    "    return obj_val_dual, u_opt , w_opt\n",
    "    \n",
    "end\n"
   ]
  },
  {
   "cell_type": "code",
   "execution_count": 23,
   "id": "29754571",
   "metadata": {},
   "outputs": [
    {
     "name": "stderr",
     "output_type": "stream",
     "text": [
      "┌ Info: performance measure of primal is 0.02558397015264716\n",
      "└ @ Main In[1]:378\n"
     ]
    },
    {
     "ename": "LoadError",
     "evalue": "DimensionMismatch(\"arrays could not be broadcast to a common size; got a dimension with lengths 6 and 7\")",
     "output_type": "error",
     "traceback": [
      "DimensionMismatch(\"arrays could not be broadcast to a common size; got a dimension with lengths 6 and 7\")",
      "",
      "Stacktrace:",
      "  [1] _bcs1(a::OffsetArrays.IdOffsetRange{Int64, Base.OneTo{Int64}}, b::Base.OneTo{Int64})",
      "    @ Base.Broadcast ./broadcast.jl:516",
      "  [2] _bcs",
      "    @ ./broadcast.jl:510 [inlined]",
      "  [3] broadcast_shape",
      "    @ ./broadcast.jl:504 [inlined]",
      "  [4] combine_axes",
      "    @ ./broadcast.jl:499 [inlined]",
      "  [5] instantiate",
      "    @ ./broadcast.jl:281 [inlined]",
      "  [6] materialize",
      "    @ ./broadcast.jl:860 [inlined]",
      "  [7] broadcast(::typeof(MutableArithmetics.sub_mul), ::OffsetMatrix{AffExpr, Matrix{AffExpr}}, ::Symmetric{VariableRef, Matrix{VariableRef}})",
      "    @ Base.Broadcast ./broadcast.jl:798",
      "  [8] broadcast_fallback!",
      "    @ ~/.julia/packages/MutableArithmetics/Lnlkl/src/broadcast.jl:192 [inlined]",
      "  [9] broadcast!!(::typeof(MutableArithmetics.sub_mul), ::OffsetMatrix{AffExpr, Matrix{AffExpr}}, ::Symmetric{VariableRef, Matrix{VariableRef}})",
      "    @ MutableArithmetics ~/.julia/packages/MutableArithmetics/Lnlkl/src/broadcast.jl:172",
      " [10] macro expansion",
      "    @ ~/.julia/packages/MutableArithmetics/Lnlkl/src/rewrite.jl:295 [inlined]",
      " [11] macro expansion",
      "    @ ~/.julia/packages/JuMP/Y4piv/src/macros.jl:823 [inlined]",
      " [12] solve_inner_dual(N::Int64, L::Int64, α::OffsetMatrix{Float64, Matrix{Float64}}, R::Int64; show_output::Symbol, ϵ_tol::Float64, objective_type::Symbol, obj_val_upper_bound::Float64)",
      "    @ Main ./In[20]:55",
      " [13] top-level scope",
      "    @ In[23]:10",
      " [14] eval",
      "    @ ./boot.jl:373 [inlined]",
      " [15] include_string(mapexpr::typeof(REPL.softscope), mod::Module, code::String, filename::String)",
      "    @ Base ./loading.jl:1196"
     ]
    }
   ],
   "source": [
    "N=4\n",
    "L=1\n",
    "R=1\n",
    "\n",
    "α=new_ogm(N)\n",
    "\n",
    "obj_val_primal, G_star, F_star= solve_inner_primal(N, L, α, R; show_output = :off)\n",
    "\n",
    "\n",
    "obj_val_dual, l1_norm_λ_dual, tr_Z_dual, \n",
    "sparse_sol_obj_val, λ_opt, ν_ws, \n",
    "Z_ws, L_cholesky_ws, idx_set_λ_effective_ws = solve_inner_dual(N, L, α,  R; show_output = :off, \n",
    "    ϵ_tol = 1e-6, objective_type = :default, obj_val_upper_bound = 1.1*obj_val_primal)\n",
    "\n",
    "\n",
    "solve_OGM_lya(N, L, F_star, G_star, λ_opt ; show_output = :off, ϵ_tol = 1e-6, )"
   ]
  },
  {
   "cell_type": "code",
   "execution_count": 24,
   "id": "dcc81172",
   "metadata": {},
   "outputs": [
    {
     "data": {
      "text/plain": [
       "5-element OffsetArray(::Vector{Float64}, 0:4) with eltype Float64 with indices 0:4:\n",
       " 1.0\n",
       " 1.618033988749895\n",
       " 2.193527085331054\n",
       " 2.749791340120445\n",
       " 4.420804104823752"
      ]
     },
     "execution_count": 24,
     "metadata": {},
     "output_type": "execute_result"
    }
   ],
   "source": [
    "θ=get_theta(N)"
   ]
  },
  {
   "cell_type": "code",
   "execution_count": 25,
   "id": "f10be3d5",
   "metadata": {},
   "outputs": [
    {
     "data": {
      "text/plain": [
       "5-element OffsetArray(::Vector{Float64}, 0:4) with eltype Float64 with indices 0:4:\n",
       " 2.0\n",
       " 3.23606797749979\n",
       " 4.387054170662108\n",
       " 5.49958268024089\n",
       " 8.841608209647504"
      ]
     },
     "execution_count": 25,
     "metadata": {},
     "output_type": "execute_result"
    }
   ],
   "source": [
    "2*θ"
   ]
  },
  {
   "cell_type": "code",
   "execution_count": 26,
   "id": "61fdf573",
   "metadata": {},
   "outputs": [
    {
     "ename": "LoadError",
     "evalue": "UndefVarError: λ_opt not defined",
     "output_type": "error",
     "traceback": [
      "UndefVarError: λ_opt not defined",
      "",
      "Stacktrace:",
      " [1] top-level scope",
      "   @ :0",
      " [2] eval",
      "   @ ./boot.jl:373 [inlined]",
      " [3] include_string(mapexpr::typeof(REPL.softscope), mod::Module, code::String, filename::String)",
      "   @ Base ./loading.jl:1196"
     ]
    }
   ],
   "source": [
    "λ_opt"
   ]
  },
  {
   "cell_type": "code",
   "execution_count": 27,
   "id": "649b0840",
   "metadata": {},
   "outputs": [
    {
     "data": {
      "text/plain": [
       "0.0661257368537568"
      ]
     },
     "execution_count": 27,
     "metadata": {},
     "output_type": "execute_result"
    }
   ],
   "source": [
    "function get_theta_NAG(N)\n",
    "    theta=OffsetArray(zeros(N+1), 0:N)\n",
    "    theta[0]=1\n",
    "    for i in 1:N\n",
    "        theta[i]=(1+sqrt(1+4*theta[i-1]^2))/2\n",
    "    end\n",
    "    return theta\n",
    "end\n",
    "\n",
    "\n",
    "θ=get_theta_NAG(3)\n",
    "1/(2*θ[N-1]^2)"
   ]
  },
  {
   "cell_type": "code",
   "execution_count": 28,
   "id": "f81b3b53",
   "metadata": {},
   "outputs": [
    {
     "data": {
      "text/plain": [
       "24.658412216274503"
      ]
     },
     "execution_count": 28,
     "metadata": {},
     "output_type": "execute_result"
    }
   ],
   "source": [
    "1/ 0.04055411156359865"
   ]
  },
  {
   "cell_type": "code",
   "execution_count": 29,
   "id": "61a89b17",
   "metadata": {},
   "outputs": [
    {
     "name": "stderr",
     "output_type": "stream",
     "text": [
      "┌ Info: performance measure of primal is 0.01858816102062284\n",
      "└ @ Main In[1]:378\n"
     ]
    },
    {
     "ename": "LoadError",
     "evalue": "DimensionMismatch(\"arrays could not be broadcast to a common size; got a dimension with lengths 7 and 8\")",
     "output_type": "error",
     "traceback": [
      "DimensionMismatch(\"arrays could not be broadcast to a common size; got a dimension with lengths 7 and 8\")",
      "",
      "Stacktrace:",
      "  [1] _bcs1(a::OffsetArrays.IdOffsetRange{Int64, Base.OneTo{Int64}}, b::Base.OneTo{Int64})",
      "    @ Base.Broadcast ./broadcast.jl:516",
      "  [2] _bcs",
      "    @ ./broadcast.jl:510 [inlined]",
      "  [3] broadcast_shape",
      "    @ ./broadcast.jl:504 [inlined]",
      "  [4] combine_axes",
      "    @ ./broadcast.jl:499 [inlined]",
      "  [5] instantiate",
      "    @ ./broadcast.jl:281 [inlined]",
      "  [6] materialize",
      "    @ ./broadcast.jl:860 [inlined]",
      "  [7] broadcast(::typeof(MutableArithmetics.sub_mul), ::OffsetMatrix{AffExpr, Matrix{AffExpr}}, ::Symmetric{VariableRef, Matrix{VariableRef}})",
      "    @ Base.Broadcast ./broadcast.jl:798",
      "  [8] broadcast_fallback!",
      "    @ ~/.julia/packages/MutableArithmetics/Lnlkl/src/broadcast.jl:192 [inlined]",
      "  [9] broadcast!!(::typeof(MutableArithmetics.sub_mul), ::OffsetMatrix{AffExpr, Matrix{AffExpr}}, ::Symmetric{VariableRef, Matrix{VariableRef}})",
      "    @ MutableArithmetics ~/.julia/packages/MutableArithmetics/Lnlkl/src/broadcast.jl:172",
      " [10] macro expansion",
      "    @ ~/.julia/packages/MutableArithmetics/Lnlkl/src/rewrite.jl:295 [inlined]",
      " [11] macro expansion",
      "    @ ~/.julia/packages/JuMP/Y4piv/src/macros.jl:823 [inlined]",
      " [12] solve_inner_dual(N::Int64, L::Int64, α::OffsetMatrix{Float64, Matrix{Float64}}, R::Int64; show_output::Symbol, ϵ_tol::Float64, objective_type::Symbol, obj_val_upper_bound::Float64)",
      "    @ Main ./In[20]:55",
      " [13] top-level scope",
      "    @ In[29]:12",
      " [14] eval",
      "    @ ./boot.jl:373 [inlined]",
      " [15] include_string(mapexpr::typeof(REPL.softscope), mod::Module, code::String, filename::String)",
      "    @ Base ./loading.jl:1196"
     ]
    }
   ],
   "source": [
    "## test\n",
    "N=5\n",
    "L=1\n",
    "R=1\n",
    "\n",
    "α=new_ogm(N)\n",
    "\n",
    "#α=construct_GD_stepsizes(N)\n",
    "obj_val_primal, G_star_primal, F_star_primal= solve_inner_primal(N, L, α, R; show_output = :off)\n",
    "\n",
    "\n",
    "obj_val_dual, l1_norm_λ_dual, tr_Z_dual, \n",
    "sparse_sol_obj_val, λ_ws, ν_ws, \n",
    "Z_ws, L_cholesky_ws, idx_set_λ_effective_ws = solve_inner_dual(N, L, α,  R; show_output = :off, \n",
    "    ϵ_tol = 1e-6, objective_type = :default, obj_val_upper_bound = 1.1*obj_val_primal)\n",
    "\n",
    "@info \"primal-dual gap for stage 1 = $(obj_val_primal-obj_val_dual)\"  \n",
    "\n",
    "\n",
    "## Impose bound\n",
    "\n",
    "dim_Z_ws, _ = size(Z_ws)\n",
    "\n",
    "big_M_G = maximum(Z_ws[i,i] for i in 1:dim_Z_ws)\n",
    "\n",
    "big_M_λ = maximum(λ_ws)\n",
    "\n",
    "big_M = 5*maximum([big_M_G; big_M_λ])\n",
    "\n",
    "M_λ,  M_ν, M_Z, M_L_cholesky = big_M , big_M *ν_ws, big_M, sqrt(big_M)\n",
    "\n",
    "α_ws = α\n",
    "\n",
    "## Find locally optimal solution\n",
    "\n",
    "obj_val, λ_opt, ν_opt, Z_opt, L_cholesky_opt, \n",
    "α_opt,idx_set_λ_opt_effective = BnB_PEP_solver(N, L, R,\n",
    "    # solutions to warm-start\n",
    "    obj_val_dual, λ_ws, ν_ws, Z_ws, L_cholesky_ws, \n",
    "    α_ws ,  idx_set_λ_effective_ws,\n",
    "    # upper bounds\n",
    "    M_λ, M_ν, M_Z, M_L_cholesky ;\n",
    "    # options    \n",
    "    solution_type = :find_globally_optimal, # other option :find_globally_optimal \n",
    "    show_output = :off, # other option :on\n",
    "    reduce_index_set_for_λ = :on, #:for_warm_start_only,\n",
    "    # on  : force not effective sets 0 \n",
    "    # off , do nothing \n",
    "    # for_warm_start_only , =off but warm start from effective indices\n",
    "    reduce_index_set_for_L_cholesky = :on, \n",
    "    positive_step_size = :on, \n",
    "    quadratic_equality_modeling = :through_ϵ,  #no other options yet\n",
    "    ϵ_tol = 1e-6, \n",
    "    ϵ_tol_Cholesky = 0.0005, \n",
    "    global_lower_bound = 0.0, \n",
    "    local_solver = :ipopt,\n",
    "    fix_diagonals = :off\n",
    "    )\n",
    "\n",
    "## Display a few important info:\n",
    "\n",
    "@show obj_val\n",
    "##\n",
    "@show α_opt          "
   ]
  },
  {
   "cell_type": "code",
   "execution_count": 30,
   "id": "39b0e4ce",
   "metadata": {},
   "outputs": [
    {
     "data": {
      "text/plain": [
       "construct_hhOGM_stepsizes (generic function with 1 method)"
      ]
     },
     "execution_count": 30,
     "metadata": {},
     "output_type": "execute_result"
    }
   ],
   "source": [
    "function construct_hOGM_stepsizes(N) #reference from OGM paper \n",
    "    α=OffsetArray(zeros(N,N), 1:N, 0:N-1)\n",
    "    h=OffsetArray(zeros(N,N), 1:N, 0:N-1)\n",
    "    theta=OffsetArray(zeros(N+1), 0:N)\n",
    "    theta[0]=1\n",
    "    for i in 1:N-1\n",
    "        theta[i]=(1+sqrt(1+4*theta[i-1]^2))/2\n",
    "    end\n",
    "    theta[N]=(1+sqrt(1+8*theta[N-1]^2))/2\n",
    "\n",
    "\n",
    "    for i in 0:N-1\n",
    "        for k in 0:i-1\n",
    "            if k+1<=i\n",
    "                h[i+1,k]=(1/theta[i+1])*(2*theta[k]-sum(h[l,k] for l in k+1:i))\n",
    "            end\n",
    "        end\n",
    "        h[i+1,i]=1+(2*theta[i]-1)/theta[i+1]\n",
    "    end\n",
    "    \n",
    "    return h\n",
    "end\n",
    "\n",
    "function construct_rOGM_stepsizes(N) #reference from OGM paper \n",
    "    r=OffsetArray(zeros(N,N), 1:N, 0:N-1)\n",
    "    h=construct_hOGM_stepsizes(N)\n",
    "    λ=get_lambda_OGM(N)\n",
    "    τ=get_tau_OGM(N)\n",
    "    \n",
    "    for i in 1:N\n",
    "        for j in 0:i-1\n",
    "            r[i,j]=λ[i]*h[i,j]+τ[i]*sum(h[l,j] for l in j+1:i)\n",
    "        end\n",
    "    end\n",
    "\n",
    "    return r\n",
    "end\n",
    "\n",
    "function construct_hhOGM_stepsizes(N) #reference from OGM paper \n",
    "    α=OffsetArray(zeros(N,N), 1:N, 0:N-1)\n",
    "    r=construct_rOGM_stepsizes(N)\n",
    "    λ=get_lambda_OGM(N)\n",
    "    τ=get_tau_OGM(N)\n",
    "    \n",
    "    for i in 1:N\n",
    "        α[i,i-1]=r[i,i-1]/(τ[i]+λ[i])\n",
    "        for k in 0:i-2\n",
    "            α[i,k]=(r[i,k]-τ[i]*sum(α[j,k] for j in k+1:i-1))/(τ[i]+λ[i])\n",
    "        end\n",
    "    end\n",
    "\n",
    "    return α\n",
    "end"
   ]
  },
  {
   "cell_type": "code",
   "execution_count": 31,
   "id": "95591a82",
   "metadata": {},
   "outputs": [
    {
     "data": {
      "text/plain": [
       "get_guler_stepsize (generic function with 1 method)"
      ]
     },
     "execution_count": 31,
     "metadata": {},
     "output_type": "execute_result"
    }
   ],
   "source": [
    "function get_theta_guler(N,diag)\n",
    "    k=OffsetArray(zeros(N), 0:N-1)\n",
    "    for i in 0:N-1\n",
    "        k[i]=diag[i+1]/diag[1]\n",
    "    end\n",
    "    θ=OffsetArray(zeros(N), 0:N-1)\n",
    "    θ[0]=1\n",
    "    for i in 1:N-1\n",
    "        θ[i]=(k[i]+sqrt(k[i]^2+(4*k[i]/k[i-1])*θ[i-1]^2))/2\n",
    "    end\n",
    "    return θ\n",
    "end\n",
    "\n",
    "\n",
    "function get_guler_stepsize(N,diag)\n",
    "    k=OffsetArray(zeros(N), 0:N-1)\n",
    "    for i in 0:N-1\n",
    "        k[i]=diag[i+1]/diag[1]\n",
    "    end\n",
    "    θ=get_theta_guler(N,diag)\n",
    "    ϕ = OffsetArray(zeros(N, N), 1:N, 0:N-1)\n",
    "    \n",
    "    \n",
    "    for i in 1:N\n",
    "        ϕ[i,i-1]=diag[i]\n",
    "    end\n",
    "    \n",
    "    if N>=2\n",
    "        for i in 2:N\n",
    "            for j in 0:i-2\n",
    "                 ϕ[i,j]=diag[i]*(2*θ[i-1]*θ[j]+(ϕ[i-1,j]*θ[i-2]^2)/(diag[i-1]))/(θ[i-1]^2)\n",
    "            end\n",
    "        end\n",
    "    end\n",
    "         \n",
    "    return ϕ    \n",
    "end"
   ]
  },
  {
   "cell_type": "code",
   "execution_count": null,
   "id": "16f6ff43",
   "metadata": {},
   "outputs": [],
   "source": []
  },
  {
   "cell_type": "code",
   "execution_count": null,
   "id": "1239b5a1",
   "metadata": {},
   "outputs": [],
   "source": []
  }
 ],
 "metadata": {
  "kernelspec": {
   "display_name": "Julia 1.7.3",
   "language": "julia",
   "name": "julia-1.7"
  },
  "language_info": {
   "file_extension": ".jl",
   "mimetype": "application/julia",
   "name": "julia",
   "version": "1.7.3"
  }
 },
 "nbformat": 4,
 "nbformat_minor": 5
}
