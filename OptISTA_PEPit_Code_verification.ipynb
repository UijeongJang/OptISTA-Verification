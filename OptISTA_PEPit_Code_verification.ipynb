{
 "cells": [
  {
   "cell_type": "code",
   "execution_count": 1,
   "id": "fdaddcf0-8a61-4dce-96a5-7a44df1fd7d7",
   "metadata": {},
   "outputs": [],
   "source": [
    "from PEPit import PEP\n",
    "from PEPit.functions import SmoothStronglyConvexFunction\n",
    "from PEPit.functions import ConvexFunction\n",
    "from PEPit.primitive_steps import proximal_step\n",
    "from math import sqrt"
   ]
  },
  {
   "cell_type": "code",
   "execution_count": 2,
   "id": "49a18289-2975-4b11-a4da-1219a37b2ae0",
   "metadata": {},
   "outputs": [],
   "source": [
    "import numpy as np"
   ]
  },
  {
   "cell_type": "code",
   "execution_count": 3,
   "id": "611ad7f8-42d6-4127-beee-13bc764a2fee",
   "metadata": {},
   "outputs": [],
   "source": [
    "# Problem setting\n",
    "\n",
    "N = 4\n",
    "L = 2\n",
    "\n",
    "problem = PEP()"
   ]
  },
  {
   "cell_type": "code",
   "execution_count": 4,
   "id": "ab3c66a4-4ab7-457c-a97c-a0aeb4137d5b",
   "metadata": {},
   "outputs": [],
   "source": [
    "# Declare an L-smooth convex function \n",
    "\n",
    "f = problem.declare_function(\n",
    "                SmoothStronglyConvexFunction,\n",
    "                mu=0,   # Strong convexity param.=0\n",
    "                L=L)    # Smoothness param.\n",
    "\n",
    "# Declare an convex function \n",
    "h = problem.declare_function(ConvexFunction)\n",
    "\n",
    "# Declare F=f+h\n",
    "F = f + h"
   ]
  },
  {
   "cell_type": "code",
   "execution_count": 5,
   "id": "02c5839a-7b73-4497-8a0d-6ccfdd6075ad",
   "metadata": {},
   "outputs": [],
   "source": [
    "# Define its unique optimal point xs = x_* and its function value Fs = F(x_*)\n",
    "xs = F.stationary_point()\n",
    "Fs = F.value(xs)\n",
    "\n",
    "# Define the starting point x0\n",
    "x0 = problem.set_initial_point()\n",
    "\n",
    "# Set the initial constraint that is the distance between x0 and x_*\n",
    "problem.set_initial_condition( (x0 - xs) ** 2 <= 1 )"
   ]
  },
  {
   "cell_type": "code",
   "execution_count": 6,
   "id": "2bea54a9",
   "metadata": {},
   "outputs": [],
   "source": [
    "# Define the stepsizes\n",
    "\n",
    "def get_theta(N):\n",
    "    \n",
    "    theta=np.zeros(N+1)\n",
    "    \n",
    "    theta[0]=1\n",
    "    \n",
    "    for i in range(N):\n",
    "        \n",
    "        theta[i+1]=(1 + sqrt(4 * theta[i] ** 2 + 1)) / 2\n",
    "        \n",
    "    theta[N]=(1 + sqrt(8 * theta[N-1] ** 2 + 1)) / 2\n",
    "    \n",
    "    return theta\n",
    "\n",
    "def get_gamma(N):\n",
    "    \n",
    "    gamma=np.zeros(N)\n",
    "    \n",
    "    theta=get_theta(N)\n",
    "    \n",
    "    for i in range(N):\n",
    "        gamma[i]=( 2*theta[i] / theta[N] ** 2 ) * ( theta[N] ** 2 - 2 * theta[i] ** 2 + theta[i] )\n",
    "        \n",
    "    return gamma\n",
    "\n",
    "theta=get_theta(N)\n",
    "\n",
    "gamma=get_gamma(N)"
   ]
  },
  {
   "cell_type": "code",
   "execution_count": 7,
   "id": "1fc4182b-9d60-4d53-ba95-14b99dd70626",
   "metadata": {},
   "outputs": [],
   "source": [
    "# Set initial points\n",
    "\n",
    "y_new = x0\n",
    "\n",
    "x = x0\n",
    "\n",
    "z = x0\n",
    "\n",
    "# Compute N steps of OptISTA from x0\n",
    "\n",
    "for i in range(N):\n",
    "    \n",
    "    x_old = x\n",
    "    \n",
    "    z_old = z\n",
    "    \n",
    "    y_old = y_new\n",
    "    \n",
    "    \n",
    "    \n",
    "    y_new, _, _  = proximal_step( y_old - gamma[i] / L * f.gradient(x), h, gamma[i] / L)\n",
    "    \n",
    "    z = x_old + ( y_new - y_old ) / gamma[i]\n",
    "    \n",
    "    x = z + ( ( theta[i] - 1 ) /  theta[i+1]  ) * ( z - z_old )  + ( theta[i] / theta[i+1] ) * ( z - x_old )"
   ]
  },
  {
   "cell_type": "code",
   "execution_count": 8,
   "id": "186290fd-bb09-4a4d-9e3e-a81dc2ea95ea",
   "metadata": {},
   "outputs": [],
   "source": [
    "# Set the performance measure\n",
    "\n",
    "problem.set_performance_metric(F.value(y_new) -Fs)\n"
   ]
  },
  {
   "cell_type": "code",
   "execution_count": 9,
   "id": "2d36f665-f6cd-4382-a646-ab7e9424508f",
   "metadata": {},
   "outputs": [
    {
     "name": "stdout",
     "output_type": "stream",
     "text": [
      "(PEPit) Setting up the problem: size of the main PSD matrix: 13x13\n",
      "(PEPit) Setting up the problem: performance measure is minimum of 1 element(s)\n",
      "(PEPit) Setting up the problem: initial conditions and general constraints (1 constraint(s) added)\n",
      "(PEPit) Setting up the problem: interpolation conditions for 2 function(s)\n",
      "\t\t function 1 : 30 constraint(s) added\n",
      "\t\t function 2 : 30 constraint(s) added\n",
      "(PEPit) Setting up the problem: 0 lmi constraint(s) added\n",
      "(PEPit) Compiling SDP\n",
      "(PEPit) Calling SDP solver\n",
      "(PEPit) Solver status: optimal (solver: MOSEK); optimal value: 0.05392723862045904\n",
      "\u001b[96m(PEPit) Postprocessing: solver's output is not entirely feasible (smallest eigenvalue of the Gram matrix is: -4.91e-09 < 0).\n",
      " Small deviation from 0 may simply be due to numerical error. Big ones should be deeply investigated.\n",
      " In any case, from now the provided values of parameters are based on the projection of the Gram matrix onto the cone of symmetric semi-definite matrix.\u001b[0m\n"
     ]
    }
   ],
   "source": [
    "# Solve the PEP\n",
    "verbose = 1\n",
    "pepit_verbose = max(verbose, 0)\n",
    "OptISTA_rate = problem.solve(verbose=pepit_verbose)"
   ]
  },
  {
   "cell_type": "code",
   "execution_count": 10,
   "id": "3dcd663f",
   "metadata": {},
   "outputs": [],
   "source": [
    "# Theoretical rate of OptISTA [Theorem 1]\n",
    "\n",
    "theoretical_rate = L  / ( 2 * (theta[N] ** 2 - 1 ) ) "
   ]
  },
  {
   "cell_type": "code",
   "execution_count": 12,
   "id": "c35af1a9-9c67-4ff8-9364-742ecc9bd1b1",
   "metadata": {},
   "outputs": [
    {
     "name": "stdout",
     "output_type": "stream",
     "text": [
      "*** worst-case performance of OptISTA ***\n",
      "\t PEP guarantee:\t f(y_N)-f_* <= 0.0539272 ||x0 - xs||^2\n",
      "\t Theorem 1:\t f(y_N)-f_* <= 0.0539272 ||x0 - xs||^2 \n"
     ]
    }
   ],
   "source": [
    "# PEP guarantee equals Theoretical rate\n",
    "\n",
    "print('*** worst-case performance of OptISTA ***')\n",
    "print('\\t PEP guarantee:\\t f(y_N)-f_* <= {:.6} ||x0 - xs||^2'.format(OptISTA_rate ))\n",
    "print('\\t Theorem 1:\\t f(y_N)-f_* <= {:.6} ||x0 - xs||^2 '.format(theoretical_rate))"
   ]
  },
  {
   "cell_type": "code",
   "execution_count": null,
   "id": "016a6fbb",
   "metadata": {},
   "outputs": [],
   "source": []
  }
 ],
 "metadata": {
  "kernelspec": {
   "display_name": "Python 3 (ipykernel)",
   "language": "python",
   "name": "python3"
  },
  "language_info": {
   "codemirror_mode": {
    "name": "ipython",
    "version": 3
   },
   "file_extension": ".py",
   "mimetype": "text/x-python",
   "name": "python",
   "nbconvert_exporter": "python",
   "pygments_lexer": "ipython3",
   "version": "3.9.12"
  },
  "vscode": {
   "interpreter": {
    "hash": "31f2aee4e71d21fbe5cf8b01ff0e069b9275f58929596ceb00d14d90e3e16cd6"
   }
  }
 },
 "nbformat": 4,
 "nbformat_minor": 5
}
